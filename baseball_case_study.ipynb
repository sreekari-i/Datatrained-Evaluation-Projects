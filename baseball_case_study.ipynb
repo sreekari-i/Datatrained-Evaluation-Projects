{
  "nbformat": 4,
  "nbformat_minor": 0,
  "metadata": {
    "colab": {
      "name": "baseball_case_study.ipynb",
      "provenance": []
    },
    "kernelspec": {
      "name": "python3",
      "display_name": "Python 3"
    },
    "language_info": {
      "name": "python"
    }
  },
  "cells": [
    {
      "cell_type": "markdown",
      "metadata": {
        "id": "Nk3KBx9q5Yu4"
      },
      "source": [
        "# Baseball Case Study<br><br>\n",
        "**Problem Statement:**<br><br>\n",
        "This dataset utilizes data from 2014 Major League Baseball seasons in order to develop an algorithm that predicts the number of wins for a given team in the 2015 season based on several different indicators of success. There are 16 different features that will be used as the inputs to the machine learning and the output will be a value that represents the number of wins. <br><br>\n",
        "\n",
        "**-- Input features:**<br> Runs, At Bats, Hits, Doubles, Triples, Homeruns, Walks, Strikeouts, Stolen Bases, Runs Allowed, Earned Runs, Earned Run Average (ERA), Shutouts, Saves, and Errors\n",
        "<br><br>\n",
        "**-- Output:**<br> Number of predicted wins (W)<br><br><br>"
      ]
    },
    {
      "cell_type": "markdown",
      "metadata": {
        "id": "NZmjD9Ch6Yj0"
      },
      "source": [
        "### Importing required libraries"
      ]
    },
    {
      "cell_type": "code",
      "metadata": {
        "id": "42lQM9Zj50uc"
      },
      "source": [
        "import numpy as np\n",
        "import pandas as pd\n",
        "import sklearn\n",
        "import seaborn as sns\n",
        "import matplotlib.pyplot as plt\n",
        "import warnings\n",
        "warnings.filterwarnings('ignore')"
      ],
      "execution_count": 1,
      "outputs": []
    },
    {
      "cell_type": "markdown",
      "metadata": {
        "id": "UZYSEEBQ6hA_"
      },
      "source": [
        "### Loading the Dataset"
      ]
    },
    {
      "cell_type": "code",
      "metadata": {
        "colab": {
          "resources": {
            "http://localhost:8080/nbextensions/google.colab/files.js": {
              "data": "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",
              "ok": true,
              "headers": [
                [
                  "content-type",
                  "application/javascript"
                ]
              ],
              "status": 200,
              "status_text": ""
            }
          },
          "base_uri": "https://localhost:8080/",
          "height": 72
        },
        "id": "2wfRIIGc6e1W",
        "outputId": "01996513-df04-4805-d5b3-eb1407a9b5d2"
      },
      "source": [
        "from google.colab import files\n",
        "uploaded = files.upload()"
      ],
      "execution_count": 2,
      "outputs": [
        {
          "output_type": "display_data",
          "data": {
            "text/html": [
              "\n",
              "     <input type=\"file\" id=\"files-e51bb3f0-5535-4b0f-a9e4-2f3342b663d3\" name=\"files[]\" multiple disabled\n",
              "        style=\"border:none\" />\n",
              "     <output id=\"result-e51bb3f0-5535-4b0f-a9e4-2f3342b663d3\">\n",
              "      Upload widget is only available when the cell has been executed in the\n",
              "      current browser session. Please rerun this cell to enable.\n",
              "      </output>\n",
              "      <script src=\"/nbextensions/google.colab/files.js\"></script> "
            ],
            "text/plain": [
              "<IPython.core.display.HTML object>"
            ]
          },
          "metadata": {
            "tags": []
          }
        },
        {
          "output_type": "stream",
          "text": [
            "Saving Baseball_Case_Study to Baseball_Case_Study (4)\n"
          ],
          "name": "stdout"
        }
      ]
    },
    {
      "cell_type": "code",
      "metadata": {
        "id": "jV-MBxEy6oZU"
      },
      "source": [
        "df=pd.read_csv(\"Baseball_Case_Study\")"
      ],
      "execution_count": 3,
      "outputs": []
    },
    {
      "cell_type": "markdown",
      "metadata": {
        "id": "3Jahl7JN7UTX"
      },
      "source": [
        "### Exploratory Data Analysis"
      ]
    },
    {
      "cell_type": "code",
      "metadata": {
        "id": "8Udd0ilV7TD_",
        "colab": {
          "base_uri": "https://localhost:8080/",
          "height": 204
        },
        "outputId": "12cff02c-3a5d-4a07-c8d8-23d03e064b78"
      },
      "source": [
        "df.head()"
      ],
      "execution_count": 4,
      "outputs": [
        {
          "output_type": "execute_result",
          "data": {
            "text/html": [
              "<div>\n",
              "<style scoped>\n",
              "    .dataframe tbody tr th:only-of-type {\n",
              "        vertical-align: middle;\n",
              "    }\n",
              "\n",
              "    .dataframe tbody tr th {\n",
              "        vertical-align: top;\n",
              "    }\n",
              "\n",
              "    .dataframe thead th {\n",
              "        text-align: right;\n",
              "    }\n",
              "</style>\n",
              "<table border=\"1\" class=\"dataframe\">\n",
              "  <thead>\n",
              "    <tr style=\"text-align: right;\">\n",
              "      <th></th>\n",
              "      <th>W</th>\n",
              "      <th>R</th>\n",
              "      <th>AB</th>\n",
              "      <th>H</th>\n",
              "      <th>2B</th>\n",
              "      <th>3B</th>\n",
              "      <th>HR</th>\n",
              "      <th>BB</th>\n",
              "      <th>SO</th>\n",
              "      <th>SB</th>\n",
              "      <th>RA</th>\n",
              "      <th>ER</th>\n",
              "      <th>ERA</th>\n",
              "      <th>CG</th>\n",
              "      <th>SHO</th>\n",
              "      <th>SV</th>\n",
              "      <th>E</th>\n",
              "    </tr>\n",
              "  </thead>\n",
              "  <tbody>\n",
              "    <tr>\n",
              "      <th>0</th>\n",
              "      <td>95</td>\n",
              "      <td>724</td>\n",
              "      <td>5575</td>\n",
              "      <td>1497</td>\n",
              "      <td>300</td>\n",
              "      <td>42</td>\n",
              "      <td>139</td>\n",
              "      <td>383</td>\n",
              "      <td>973</td>\n",
              "      <td>104</td>\n",
              "      <td>641</td>\n",
              "      <td>601</td>\n",
              "      <td>3.73</td>\n",
              "      <td>2</td>\n",
              "      <td>8</td>\n",
              "      <td>56</td>\n",
              "      <td>88</td>\n",
              "    </tr>\n",
              "    <tr>\n",
              "      <th>1</th>\n",
              "      <td>83</td>\n",
              "      <td>696</td>\n",
              "      <td>5467</td>\n",
              "      <td>1349</td>\n",
              "      <td>277</td>\n",
              "      <td>44</td>\n",
              "      <td>156</td>\n",
              "      <td>439</td>\n",
              "      <td>1264</td>\n",
              "      <td>70</td>\n",
              "      <td>700</td>\n",
              "      <td>653</td>\n",
              "      <td>4.07</td>\n",
              "      <td>2</td>\n",
              "      <td>12</td>\n",
              "      <td>45</td>\n",
              "      <td>86</td>\n",
              "    </tr>\n",
              "    <tr>\n",
              "      <th>2</th>\n",
              "      <td>81</td>\n",
              "      <td>669</td>\n",
              "      <td>5439</td>\n",
              "      <td>1395</td>\n",
              "      <td>303</td>\n",
              "      <td>29</td>\n",
              "      <td>141</td>\n",
              "      <td>533</td>\n",
              "      <td>1157</td>\n",
              "      <td>86</td>\n",
              "      <td>640</td>\n",
              "      <td>584</td>\n",
              "      <td>3.67</td>\n",
              "      <td>11</td>\n",
              "      <td>10</td>\n",
              "      <td>38</td>\n",
              "      <td>79</td>\n",
              "    </tr>\n",
              "    <tr>\n",
              "      <th>3</th>\n",
              "      <td>76</td>\n",
              "      <td>622</td>\n",
              "      <td>5533</td>\n",
              "      <td>1381</td>\n",
              "      <td>260</td>\n",
              "      <td>27</td>\n",
              "      <td>136</td>\n",
              "      <td>404</td>\n",
              "      <td>1231</td>\n",
              "      <td>68</td>\n",
              "      <td>701</td>\n",
              "      <td>643</td>\n",
              "      <td>3.98</td>\n",
              "      <td>7</td>\n",
              "      <td>9</td>\n",
              "      <td>37</td>\n",
              "      <td>101</td>\n",
              "    </tr>\n",
              "    <tr>\n",
              "      <th>4</th>\n",
              "      <td>74</td>\n",
              "      <td>689</td>\n",
              "      <td>5605</td>\n",
              "      <td>1515</td>\n",
              "      <td>289</td>\n",
              "      <td>49</td>\n",
              "      <td>151</td>\n",
              "      <td>455</td>\n",
              "      <td>1259</td>\n",
              "      <td>83</td>\n",
              "      <td>803</td>\n",
              "      <td>746</td>\n",
              "      <td>4.64</td>\n",
              "      <td>7</td>\n",
              "      <td>12</td>\n",
              "      <td>35</td>\n",
              "      <td>86</td>\n",
              "    </tr>\n",
              "  </tbody>\n",
              "</table>\n",
              "</div>"
            ],
            "text/plain": [
              "    W    R    AB     H   2B  3B   HR  ...   RA   ER   ERA  CG  SHO  SV    E\n",
              "0  95  724  5575  1497  300  42  139  ...  641  601  3.73   2    8  56   88\n",
              "1  83  696  5467  1349  277  44  156  ...  700  653  4.07   2   12  45   86\n",
              "2  81  669  5439  1395  303  29  141  ...  640  584  3.67  11   10  38   79\n",
              "3  76  622  5533  1381  260  27  136  ...  701  643  3.98   7    9  37  101\n",
              "4  74  689  5605  1515  289  49  151  ...  803  746  4.64   7   12  35   86\n",
              "\n",
              "[5 rows x 17 columns]"
            ]
          },
          "metadata": {
            "tags": []
          },
          "execution_count": 4
        }
      ]
    },
    {
      "cell_type": "markdown",
      "metadata": {
        "id": "3pgsrEcp7b74"
      },
      "source": [
        "This shows the first five rows of the dataset"
      ]
    },
    {
      "cell_type": "code",
      "metadata": {
        "id": "_5utCPSX7Y-D",
        "colab": {
          "base_uri": "https://localhost:8080/"
        },
        "outputId": "478d378f-0482-48ce-bf75-ace385ff4bc6"
      },
      "source": [
        "df.shape"
      ],
      "execution_count": 5,
      "outputs": [
        {
          "output_type": "execute_result",
          "data": {
            "text/plain": [
              "(30, 17)"
            ]
          },
          "metadata": {
            "tags": []
          },
          "execution_count": 5
        }
      ]
    },
    {
      "cell_type": "markdown",
      "metadata": {
        "id": "7Bc86mDg7f2u"
      },
      "source": [
        "There are 30 rows and 17 columns in the given dataset."
      ]
    },
    {
      "cell_type": "code",
      "metadata": {
        "id": "QgguKgYD7efi",
        "colab": {
          "base_uri": "https://localhost:8080/"
        },
        "outputId": "e87ce5cc-bcab-4a62-bab5-51e935ce6036"
      },
      "source": [
        "df.info()"
      ],
      "execution_count": 6,
      "outputs": [
        {
          "output_type": "stream",
          "text": [
            "<class 'pandas.core.frame.DataFrame'>\n",
            "RangeIndex: 30 entries, 0 to 29\n",
            "Data columns (total 17 columns):\n",
            " #   Column  Non-Null Count  Dtype  \n",
            "---  ------  --------------  -----  \n",
            " 0   W       30 non-null     int64  \n",
            " 1   R       30 non-null     int64  \n",
            " 2   AB      30 non-null     int64  \n",
            " 3   H       30 non-null     int64  \n",
            " 4   2B      30 non-null     int64  \n",
            " 5   3B      30 non-null     int64  \n",
            " 6   HR      30 non-null     int64  \n",
            " 7   BB      30 non-null     int64  \n",
            " 8   SO      30 non-null     int64  \n",
            " 9   SB      30 non-null     int64  \n",
            " 10  RA      30 non-null     int64  \n",
            " 11  ER      30 non-null     int64  \n",
            " 12  ERA     30 non-null     float64\n",
            " 13  CG      30 non-null     int64  \n",
            " 14  SHO     30 non-null     int64  \n",
            " 15  SV      30 non-null     int64  \n",
            " 16  E       30 non-null     int64  \n",
            "dtypes: float64(1), int64(16)\n",
            "memory usage: 4.1 KB\n"
          ],
          "name": "stdout"
        }
      ]
    },
    {
      "cell_type": "markdown",
      "metadata": {
        "id": "eoX20gpa7lnF"
      },
      "source": [
        "This describes the information of the the columns of the dataset. It shows the column names, count and datatype.<br><br> We can see that there are no missing values in the dataset.<br><br>"
      ]
    },
    {
      "cell_type": "code",
      "metadata": {
        "id": "Qbd-C6tH7ipY",
        "colab": {
          "base_uri": "https://localhost:8080/"
        },
        "outputId": "4c8d61c6-da87-48ed-d223-4446cb5c6df4"
      },
      "source": [
        "df.isnull().sum()"
      ],
      "execution_count": 7,
      "outputs": [
        {
          "output_type": "execute_result",
          "data": {
            "text/plain": [
              "W      0\n",
              "R      0\n",
              "AB     0\n",
              "H      0\n",
              "2B     0\n",
              "3B     0\n",
              "HR     0\n",
              "BB     0\n",
              "SO     0\n",
              "SB     0\n",
              "RA     0\n",
              "ER     0\n",
              "ERA    0\n",
              "CG     0\n",
              "SHO    0\n",
              "SV     0\n",
              "E      0\n",
              "dtype: int64"
            ]
          },
          "metadata": {
            "tags": []
          },
          "execution_count": 7
        }
      ]
    },
    {
      "cell_type": "markdown",
      "metadata": {
        "id": "qjI8x3-z7per"
      },
      "source": [
        "There are no null values in the dataset."
      ]
    },
    {
      "cell_type": "code",
      "metadata": {
        "id": "1hY-IhsR7oMD",
        "colab": {
          "base_uri": "https://localhost:8080/"
        },
        "outputId": "59d4327d-df76-4a15-8b50-9d15b77e1d60"
      },
      "source": [
        "df.dtypes"
      ],
      "execution_count": 8,
      "outputs": [
        {
          "output_type": "execute_result",
          "data": {
            "text/plain": [
              "W        int64\n",
              "R        int64\n",
              "AB       int64\n",
              "H        int64\n",
              "2B       int64\n",
              "3B       int64\n",
              "HR       int64\n",
              "BB       int64\n",
              "SO       int64\n",
              "SB       int64\n",
              "RA       int64\n",
              "ER       int64\n",
              "ERA    float64\n",
              "CG       int64\n",
              "SHO      int64\n",
              "SV       int64\n",
              "E        int64\n",
              "dtype: object"
            ]
          },
          "metadata": {
            "tags": []
          },
          "execution_count": 8
        }
      ]
    },
    {
      "cell_type": "markdown",
      "metadata": {
        "id": "JGEpWte-8C3_"
      },
      "source": [
        "We can see the datatype of all the columns in the dataset.\n",
        "\n"
      ]
    },
    {
      "cell_type": "code",
      "metadata": {
        "id": "8f0tzJAe8AwK",
        "colab": {
          "base_uri": "https://localhost:8080/"
        },
        "outputId": "08878ffe-2817-4be1-b959-5128e8109d0d"
      },
      "source": [
        "df.columns"
      ],
      "execution_count": 9,
      "outputs": [
        {
          "output_type": "execute_result",
          "data": {
            "text/plain": [
              "Index(['W', 'R', 'AB', 'H', '2B', '3B', 'HR', 'BB', 'SO', 'SB', 'RA', 'ER',\n",
              "       'ERA', 'CG', 'SHO', 'SV', 'E'],\n",
              "      dtype='object')"
            ]
          },
          "metadata": {
            "tags": []
          },
          "execution_count": 9
        }
      ]
    },
    {
      "cell_type": "markdown",
      "metadata": {
        "id": "_c8bFqTD8JVg"
      },
      "source": [
        "Shows all the column names"
      ]
    },
    {
      "cell_type": "markdown",
      "metadata": {
        "id": "S79Bnu2T8JYx"
      },
      "source": [
        "**Changing Column Names**\n"
      ]
    },
    {
      "cell_type": "code",
      "metadata": {
        "id": "OdqjYpVf8Img"
      },
      "source": [
        "df.columns=['Wins', 'Runs', 'At Bats', 'Hits', 'Doubles', 'Triples', 'Homeruns', 'BB', 'Strikeouts', 'Stolen Bases', 'Runs Allowed', 'Earned Runs', 'Earned Run Average (ERA)', 'CG', 'Shutouts', 'Saves', 'Errors']"
      ],
      "execution_count": 10,
      "outputs": []
    },
    {
      "cell_type": "code",
      "metadata": {
        "id": "u_O5IKd38IrC",
        "colab": {
          "base_uri": "https://localhost:8080/",
          "height": 221
        },
        "outputId": "60022c3e-363d-4568-9c95-ec14e0e82231"
      },
      "source": [
        "# checking the first five rows of the dataset now\n",
        "df.head()"
      ],
      "execution_count": 11,
      "outputs": [
        {
          "output_type": "execute_result",
          "data": {
            "text/html": [
              "<div>\n",
              "<style scoped>\n",
              "    .dataframe tbody tr th:only-of-type {\n",
              "        vertical-align: middle;\n",
              "    }\n",
              "\n",
              "    .dataframe tbody tr th {\n",
              "        vertical-align: top;\n",
              "    }\n",
              "\n",
              "    .dataframe thead th {\n",
              "        text-align: right;\n",
              "    }\n",
              "</style>\n",
              "<table border=\"1\" class=\"dataframe\">\n",
              "  <thead>\n",
              "    <tr style=\"text-align: right;\">\n",
              "      <th></th>\n",
              "      <th>Wins</th>\n",
              "      <th>Runs</th>\n",
              "      <th>At Bats</th>\n",
              "      <th>Hits</th>\n",
              "      <th>Doubles</th>\n",
              "      <th>Triples</th>\n",
              "      <th>Homeruns</th>\n",
              "      <th>BB</th>\n",
              "      <th>Strikeouts</th>\n",
              "      <th>Stolen Bases</th>\n",
              "      <th>Runs Allowed</th>\n",
              "      <th>Earned Runs</th>\n",
              "      <th>Earned Run Average (ERA)</th>\n",
              "      <th>CG</th>\n",
              "      <th>Shutouts</th>\n",
              "      <th>Saves</th>\n",
              "      <th>Errors</th>\n",
              "    </tr>\n",
              "  </thead>\n",
              "  <tbody>\n",
              "    <tr>\n",
              "      <th>0</th>\n",
              "      <td>95</td>\n",
              "      <td>724</td>\n",
              "      <td>5575</td>\n",
              "      <td>1497</td>\n",
              "      <td>300</td>\n",
              "      <td>42</td>\n",
              "      <td>139</td>\n",
              "      <td>383</td>\n",
              "      <td>973</td>\n",
              "      <td>104</td>\n",
              "      <td>641</td>\n",
              "      <td>601</td>\n",
              "      <td>3.73</td>\n",
              "      <td>2</td>\n",
              "      <td>8</td>\n",
              "      <td>56</td>\n",
              "      <td>88</td>\n",
              "    </tr>\n",
              "    <tr>\n",
              "      <th>1</th>\n",
              "      <td>83</td>\n",
              "      <td>696</td>\n",
              "      <td>5467</td>\n",
              "      <td>1349</td>\n",
              "      <td>277</td>\n",
              "      <td>44</td>\n",
              "      <td>156</td>\n",
              "      <td>439</td>\n",
              "      <td>1264</td>\n",
              "      <td>70</td>\n",
              "      <td>700</td>\n",
              "      <td>653</td>\n",
              "      <td>4.07</td>\n",
              "      <td>2</td>\n",
              "      <td>12</td>\n",
              "      <td>45</td>\n",
              "      <td>86</td>\n",
              "    </tr>\n",
              "    <tr>\n",
              "      <th>2</th>\n",
              "      <td>81</td>\n",
              "      <td>669</td>\n",
              "      <td>5439</td>\n",
              "      <td>1395</td>\n",
              "      <td>303</td>\n",
              "      <td>29</td>\n",
              "      <td>141</td>\n",
              "      <td>533</td>\n",
              "      <td>1157</td>\n",
              "      <td>86</td>\n",
              "      <td>640</td>\n",
              "      <td>584</td>\n",
              "      <td>3.67</td>\n",
              "      <td>11</td>\n",
              "      <td>10</td>\n",
              "      <td>38</td>\n",
              "      <td>79</td>\n",
              "    </tr>\n",
              "    <tr>\n",
              "      <th>3</th>\n",
              "      <td>76</td>\n",
              "      <td>622</td>\n",
              "      <td>5533</td>\n",
              "      <td>1381</td>\n",
              "      <td>260</td>\n",
              "      <td>27</td>\n",
              "      <td>136</td>\n",
              "      <td>404</td>\n",
              "      <td>1231</td>\n",
              "      <td>68</td>\n",
              "      <td>701</td>\n",
              "      <td>643</td>\n",
              "      <td>3.98</td>\n",
              "      <td>7</td>\n",
              "      <td>9</td>\n",
              "      <td>37</td>\n",
              "      <td>101</td>\n",
              "    </tr>\n",
              "    <tr>\n",
              "      <th>4</th>\n",
              "      <td>74</td>\n",
              "      <td>689</td>\n",
              "      <td>5605</td>\n",
              "      <td>1515</td>\n",
              "      <td>289</td>\n",
              "      <td>49</td>\n",
              "      <td>151</td>\n",
              "      <td>455</td>\n",
              "      <td>1259</td>\n",
              "      <td>83</td>\n",
              "      <td>803</td>\n",
              "      <td>746</td>\n",
              "      <td>4.64</td>\n",
              "      <td>7</td>\n",
              "      <td>12</td>\n",
              "      <td>35</td>\n",
              "      <td>86</td>\n",
              "    </tr>\n",
              "  </tbody>\n",
              "</table>\n",
              "</div>"
            ],
            "text/plain": [
              "   Wins  Runs  At Bats  Hits  ...  CG  Shutouts  Saves  Errors\n",
              "0    95   724     5575  1497  ...   2         8     56      88\n",
              "1    83   696     5467  1349  ...   2        12     45      86\n",
              "2    81   669     5439  1395  ...  11        10     38      79\n",
              "3    76   622     5533  1381  ...   7         9     37     101\n",
              "4    74   689     5605  1515  ...   7        12     35      86\n",
              "\n",
              "[5 rows x 17 columns]"
            ]
          },
          "metadata": {
            "tags": []
          },
          "execution_count": 11
        }
      ]
    },
    {
      "cell_type": "markdown",
      "metadata": {
        "id": "oMbySoLM8UYp"
      },
      "source": [
        "We can see the column names changed now."
      ]
    },
    {
      "cell_type": "code",
      "metadata": {
        "id": "Ryemj9xQ8E1Q",
        "colab": {
          "base_uri": "https://localhost:8080/",
          "height": 368
        },
        "outputId": "1486f312-9bd0-48f3-d205-95ea332d0dfb"
      },
      "source": [
        "df.describe()"
      ],
      "execution_count": 12,
      "outputs": [
        {
          "output_type": "execute_result",
          "data": {
            "text/html": [
              "<div>\n",
              "<style scoped>\n",
              "    .dataframe tbody tr th:only-of-type {\n",
              "        vertical-align: middle;\n",
              "    }\n",
              "\n",
              "    .dataframe tbody tr th {\n",
              "        vertical-align: top;\n",
              "    }\n",
              "\n",
              "    .dataframe thead th {\n",
              "        text-align: right;\n",
              "    }\n",
              "</style>\n",
              "<table border=\"1\" class=\"dataframe\">\n",
              "  <thead>\n",
              "    <tr style=\"text-align: right;\">\n",
              "      <th></th>\n",
              "      <th>Wins</th>\n",
              "      <th>Runs</th>\n",
              "      <th>At Bats</th>\n",
              "      <th>Hits</th>\n",
              "      <th>Doubles</th>\n",
              "      <th>Triples</th>\n",
              "      <th>Homeruns</th>\n",
              "      <th>BB</th>\n",
              "      <th>Strikeouts</th>\n",
              "      <th>Stolen Bases</th>\n",
              "      <th>Runs Allowed</th>\n",
              "      <th>Earned Runs</th>\n",
              "      <th>Earned Run Average (ERA)</th>\n",
              "      <th>CG</th>\n",
              "      <th>Shutouts</th>\n",
              "      <th>Saves</th>\n",
              "      <th>Errors</th>\n",
              "    </tr>\n",
              "  </thead>\n",
              "  <tbody>\n",
              "    <tr>\n",
              "      <th>count</th>\n",
              "      <td>30.000000</td>\n",
              "      <td>30.000000</td>\n",
              "      <td>30.000000</td>\n",
              "      <td>30.000000</td>\n",
              "      <td>30.000000</td>\n",
              "      <td>30.000000</td>\n",
              "      <td>30.000000</td>\n",
              "      <td>30.000000</td>\n",
              "      <td>30.00000</td>\n",
              "      <td>30.000000</td>\n",
              "      <td>30.000000</td>\n",
              "      <td>30.000000</td>\n",
              "      <td>30.000000</td>\n",
              "      <td>30.000000</td>\n",
              "      <td>30.000000</td>\n",
              "      <td>30.000000</td>\n",
              "      <td>30.000000</td>\n",
              "    </tr>\n",
              "    <tr>\n",
              "      <th>mean</th>\n",
              "      <td>80.966667</td>\n",
              "      <td>688.233333</td>\n",
              "      <td>5516.266667</td>\n",
              "      <td>1403.533333</td>\n",
              "      <td>274.733333</td>\n",
              "      <td>31.300000</td>\n",
              "      <td>163.633333</td>\n",
              "      <td>469.100000</td>\n",
              "      <td>1248.20000</td>\n",
              "      <td>83.500000</td>\n",
              "      <td>688.233333</td>\n",
              "      <td>635.833333</td>\n",
              "      <td>3.956333</td>\n",
              "      <td>3.466667</td>\n",
              "      <td>11.300000</td>\n",
              "      <td>43.066667</td>\n",
              "      <td>94.333333</td>\n",
              "    </tr>\n",
              "    <tr>\n",
              "      <th>std</th>\n",
              "      <td>10.453455</td>\n",
              "      <td>58.761754</td>\n",
              "      <td>70.467372</td>\n",
              "      <td>57.140923</td>\n",
              "      <td>18.095405</td>\n",
              "      <td>10.452355</td>\n",
              "      <td>31.823309</td>\n",
              "      <td>57.053725</td>\n",
              "      <td>103.75947</td>\n",
              "      <td>22.815225</td>\n",
              "      <td>72.108005</td>\n",
              "      <td>70.140786</td>\n",
              "      <td>0.454089</td>\n",
              "      <td>2.763473</td>\n",
              "      <td>4.120177</td>\n",
              "      <td>7.869335</td>\n",
              "      <td>13.958889</td>\n",
              "    </tr>\n",
              "    <tr>\n",
              "      <th>min</th>\n",
              "      <td>63.000000</td>\n",
              "      <td>573.000000</td>\n",
              "      <td>5385.000000</td>\n",
              "      <td>1324.000000</td>\n",
              "      <td>236.000000</td>\n",
              "      <td>13.000000</td>\n",
              "      <td>100.000000</td>\n",
              "      <td>375.000000</td>\n",
              "      <td>973.00000</td>\n",
              "      <td>44.000000</td>\n",
              "      <td>525.000000</td>\n",
              "      <td>478.000000</td>\n",
              "      <td>2.940000</td>\n",
              "      <td>0.000000</td>\n",
              "      <td>4.000000</td>\n",
              "      <td>28.000000</td>\n",
              "      <td>75.000000</td>\n",
              "    </tr>\n",
              "    <tr>\n",
              "      <th>25%</th>\n",
              "      <td>74.000000</td>\n",
              "      <td>651.250000</td>\n",
              "      <td>5464.000000</td>\n",
              "      <td>1363.000000</td>\n",
              "      <td>262.250000</td>\n",
              "      <td>23.000000</td>\n",
              "      <td>140.250000</td>\n",
              "      <td>428.250000</td>\n",
              "      <td>1157.50000</td>\n",
              "      <td>69.000000</td>\n",
              "      <td>636.250000</td>\n",
              "      <td>587.250000</td>\n",
              "      <td>3.682500</td>\n",
              "      <td>1.000000</td>\n",
              "      <td>9.000000</td>\n",
              "      <td>37.250000</td>\n",
              "      <td>86.000000</td>\n",
              "    </tr>\n",
              "    <tr>\n",
              "      <th>50%</th>\n",
              "      <td>81.000000</td>\n",
              "      <td>689.000000</td>\n",
              "      <td>5510.000000</td>\n",
              "      <td>1382.500000</td>\n",
              "      <td>275.500000</td>\n",
              "      <td>31.000000</td>\n",
              "      <td>158.500000</td>\n",
              "      <td>473.000000</td>\n",
              "      <td>1261.50000</td>\n",
              "      <td>83.500000</td>\n",
              "      <td>695.500000</td>\n",
              "      <td>644.500000</td>\n",
              "      <td>4.025000</td>\n",
              "      <td>3.000000</td>\n",
              "      <td>12.000000</td>\n",
              "      <td>42.000000</td>\n",
              "      <td>91.000000</td>\n",
              "    </tr>\n",
              "    <tr>\n",
              "      <th>75%</th>\n",
              "      <td>87.750000</td>\n",
              "      <td>718.250000</td>\n",
              "      <td>5570.000000</td>\n",
              "      <td>1451.500000</td>\n",
              "      <td>288.750000</td>\n",
              "      <td>39.000000</td>\n",
              "      <td>177.000000</td>\n",
              "      <td>501.250000</td>\n",
              "      <td>1311.50000</td>\n",
              "      <td>96.500000</td>\n",
              "      <td>732.500000</td>\n",
              "      <td>679.250000</td>\n",
              "      <td>4.220000</td>\n",
              "      <td>5.750000</td>\n",
              "      <td>13.000000</td>\n",
              "      <td>46.750000</td>\n",
              "      <td>96.750000</td>\n",
              "    </tr>\n",
              "    <tr>\n",
              "      <th>max</th>\n",
              "      <td>100.000000</td>\n",
              "      <td>891.000000</td>\n",
              "      <td>5649.000000</td>\n",
              "      <td>1515.000000</td>\n",
              "      <td>308.000000</td>\n",
              "      <td>49.000000</td>\n",
              "      <td>232.000000</td>\n",
              "      <td>570.000000</td>\n",
              "      <td>1518.00000</td>\n",
              "      <td>134.000000</td>\n",
              "      <td>844.000000</td>\n",
              "      <td>799.000000</td>\n",
              "      <td>5.040000</td>\n",
              "      <td>11.000000</td>\n",
              "      <td>21.000000</td>\n",
              "      <td>62.000000</td>\n",
              "      <td>126.000000</td>\n",
              "    </tr>\n",
              "  </tbody>\n",
              "</table>\n",
              "</div>"
            ],
            "text/plain": [
              "             Wins        Runs      At Bats  ...   Shutouts      Saves      Errors\n",
              "count   30.000000   30.000000    30.000000  ...  30.000000  30.000000   30.000000\n",
              "mean    80.966667  688.233333  5516.266667  ...  11.300000  43.066667   94.333333\n",
              "std     10.453455   58.761754    70.467372  ...   4.120177   7.869335   13.958889\n",
              "min     63.000000  573.000000  5385.000000  ...   4.000000  28.000000   75.000000\n",
              "25%     74.000000  651.250000  5464.000000  ...   9.000000  37.250000   86.000000\n",
              "50%     81.000000  689.000000  5510.000000  ...  12.000000  42.000000   91.000000\n",
              "75%     87.750000  718.250000  5570.000000  ...  13.000000  46.750000   96.750000\n",
              "max    100.000000  891.000000  5649.000000  ...  21.000000  62.000000  126.000000\n",
              "\n",
              "[8 rows x 17 columns]"
            ]
          },
          "metadata": {
            "tags": []
          },
          "execution_count": 12
        }
      ]
    },
    {
      "cell_type": "markdown",
      "metadata": {
        "id": "SNlejSvC8bLX"
      },
      "source": [
        "We can see the statistical description of the data here."
      ]
    },
    {
      "cell_type": "code",
      "metadata": {
        "id": "5uOmYMaA8ZXc",
        "colab": {
          "base_uri": "https://localhost:8080/",
          "height": 964
        },
        "outputId": "a6f5d542-0f3f-4c44-d5f8-2af05f3090c7"
      },
      "source": [
        "df.hist(figsize=(20,10), grid=True, layout=(4, 5), bins = 30)"
      ],
      "execution_count": 13,
      "outputs": [
        {
          "output_type": "execute_result",
          "data": {
            "text/plain": [
              "array([[<matplotlib.axes._subplots.AxesSubplot object at 0x7fbb14ec48d0>,\n",
              "        <matplotlib.axes._subplots.AxesSubplot object at 0x7fbb14e16ed0>,\n",
              "        <matplotlib.axes._subplots.AxesSubplot object at 0x7fbb14ddb510>,\n",
              "        <matplotlib.axes._subplots.AxesSubplot object at 0x7fbb14d90b90>,\n",
              "        <matplotlib.axes._subplots.AxesSubplot object at 0x7fbb14d53250>],\n",
              "       [<matplotlib.axes._subplots.AxesSubplot object at 0x7fbb14d078d0>,\n",
              "        <matplotlib.axes._subplots.AxesSubplot object at 0x7fbb14d3dfd0>,\n",
              "        <matplotlib.axes._subplots.AxesSubplot object at 0x7fbb14cff5d0>,\n",
              "        <matplotlib.axes._subplots.AxesSubplot object at 0x7fbb14cff610>,\n",
              "        <matplotlib.axes._subplots.AxesSubplot object at 0x7fbb14cb6d90>],\n",
              "       [<matplotlib.axes._subplots.AxesSubplot object at 0x7fbb14c2c9d0>,\n",
              "        <matplotlib.axes._subplots.AxesSubplot object at 0x7fbb14bd7b90>,\n",
              "        <matplotlib.axes._subplots.AxesSubplot object at 0x7fbb14ba4710>,\n",
              "        <matplotlib.axes._subplots.AxesSubplot object at 0x7fbb14b56d90>,\n",
              "        <matplotlib.axes._subplots.AxesSubplot object at 0x7fbb14b1a450>],\n",
              "       [<matplotlib.axes._subplots.AxesSubplot object at 0x7fbb14acead0>,\n",
              "        <matplotlib.axes._subplots.AxesSubplot object at 0x7fbb14a91190>,\n",
              "        <matplotlib.axes._subplots.AxesSubplot object at 0x7fbb14a56c90>,\n",
              "        <matplotlib.axes._subplots.AxesSubplot object at 0x7fbb14d5ca10>,\n",
              "        <matplotlib.axes._subplots.AxesSubplot object at 0x7fbb14bf7390>]],\n",
              "      dtype=object)"
            ]
          },
          "metadata": {
            "tags": []
          },
          "execution_count": 13
        },
        {
          "output_type": "display_data",
          "data": {
            "image/png": "[encoded data removed]",
            "text/plain": [
              "<Figure size 1440x720 with 20 Axes>"
            ]
          },
          "metadata": {
            "tags": [],
            "needs_background": "light"
          }
        }
      ]
    },
    {
      "cell_type": "markdown",
      "metadata": {
        "id": "j5Z9oNuK8m3i"
      },
      "source": [
        "**Checking Skewness**"
      ]
    },
    {
      "cell_type": "code",
      "metadata": {
        "id": "HWBsIcTF8jnI",
        "colab": {
          "base_uri": "https://localhost:8080/"
        },
        "outputId": "ca8e0e05-9d5e-41b4-e14e-2529784be0ab"
      },
      "source": [
        "df.skew(axis = 0, skipna = True)"
      ],
      "execution_count": 14,
      "outputs": [
        {
          "output_type": "execute_result",
          "data": {
            "text/plain": [
              "Wins                        0.047089\n",
              "Runs                        1.200786\n",
              "At Bats                     0.183437\n",
              "Hits                        0.670254\n",
              "Doubles                    -0.230650\n",
              "Triples                     0.129502\n",
              "Homeruns                    0.516441\n",
              "BB                          0.158498\n",
              "Strikeouts                 -0.156065\n",
              "Stolen Bases                0.479893\n",
              "Runs Allowed                0.045734\n",
              "Earned Runs                 0.058710\n",
              "Earned Run Average (ERA)    0.053331\n",
              "CG                          0.736845\n",
              "Shutouts                    0.565790\n",
              "Saves                       0.657524\n",
              "Errors                      0.890132\n",
              "dtype: float64"
            ]
          },
          "metadata": {
            "tags": []
          },
          "execution_count": 14
        }
      ]
    },
    {
      "cell_type": "markdown",
      "metadata": {
        "id": "3geH-Mee80WI"
      },
      "source": [
        "For normally distributed data, the skewness should be about 0. For unimodal continuous distributions, a skewness value > 0 means that there is more weight in the right tail of the distribution. The function skewtest can be used to determine if the skewness value is close enough to 0, statistically speaking.<br><br>Runs has highest skewness followed by Errors and CG ."
      ]
    },
    {
      "cell_type": "code",
      "metadata": {
        "id": "mGs6owxh8udU",
        "colab": {
          "base_uri": "https://localhost:8080/",
          "height": 572
        },
        "outputId": "d7a789fa-916f-4e94-ccb7-a80b14a59f0a"
      },
      "source": [
        "plt.figure(figsize=(20,7))\n",
        "sns.heatmap(df.corr(), annot=True)"
      ],
      "execution_count": 15,
      "outputs": [
        {
          "output_type": "execute_result",
          "data": {
            "text/plain": [
              "<matplotlib.axes._subplots.AxesSubplot at 0x7fbb1459cc90>"
            ]
          },
          "metadata": {
            "tags": []
          },
          "execution_count": 15
        },
        {
          "output_type": "display_data",
          "data": {
            "image/png": "[encoded data removed]",
            "text/plain": [
              "<Figure size 1440x504 with 2 Axes>"
            ]
          },
          "metadata": {
            "tags": [],
            "needs_background": "light"
          }
        }
      ]
    },
    {
      "cell_type": "markdown",
      "metadata": {
        "id": "T7NwL6-D9bEu"
      },
      "source": [
        "This heatmap shows the correleation between the columns of the dataset"
      ]
    },
    {
      "cell_type": "markdown",
      "metadata": {
        "id": "o2v58BjjB2t-"
      },
      "source": [
        "### Outliers handling"
      ]
    },
    {
      "cell_type": "code",
      "metadata": {
        "id": "aGj7oFWP879P"
      },
      "source": [
        "df = pd.get_dummies(df)\n",
        "dummy_data = df.copy()"
      ],
      "execution_count": 16,
      "outputs": []
    },
    {
      "cell_type": "code",
      "metadata": {
        "id": "Gx2teq0EB7xi",
        "colab": {
          "base_uri": "https://localhost:8080/",
          "height": 459
        },
        "outputId": "ebe94a9f-48df-4e57-ba53-73e465f3434d"
      },
      "source": [
        "df.boxplot( rot = 90, figsize=(20,5))"
      ],
      "execution_count": 17,
      "outputs": [
        {
          "output_type": "execute_result",
          "data": {
            "text/plain": [
              "<matplotlib.axes._subplots.AxesSubplot at 0x7fbb157232d0>"
            ]
          },
          "metadata": {
            "tags": []
          },
          "execution_count": 17
        },
        {
          "output_type": "display_data",
          "data": {
            "image/png": "[encoded data removed]",
            "text/plain": [
              "<Figure size 1440x360 with 1 Axes>"
            ]
          },
          "metadata": {
            "tags": [],
            "needs_background": "light"
          }
        }
      ]
    },
    {
      "cell_type": "markdown",
      "metadata": {
        "id": "vJHJLA4AB-v6"
      },
      "source": [
        "\n",
        "Based on the observations from the above boxplot, checking the columns where null values may be present."
      ]
    },
    {
      "cell_type": "code",
      "metadata": {
        "id": "9RRniLCgB9Go",
        "colab": {
          "base_uri": "https://localhost:8080/",
          "height": 296
        },
        "outputId": "fece3dd7-35fa-4eda-849d-78c2964f2807"
      },
      "source": [
        "data_plot=pd.concat([dummy_data['Wins'],dummy_data['Runs']],axis=1)\n",
        "data_plot.plot.scatter(x='Runs',y='Wins')"
      ],
      "execution_count": 18,
      "outputs": [
        {
          "output_type": "execute_result",
          "data": {
            "text/plain": [
              "<matplotlib.axes._subplots.AxesSubplot at 0x7fbb09f8e190>"
            ]
          },
          "metadata": {
            "tags": []
          },
          "execution_count": 18
        },
        {
          "output_type": "display_data",
          "data": {
            "image/png": "[encoded data removed]",
            "text/plain": [
              "<Figure size 432x288 with 1 Axes>"
            ]
          },
          "metadata": {
            "tags": [],
            "needs_background": "light"
          }
        }
      ]
    },
    {
      "cell_type": "markdown",
      "metadata": {
        "id": "9gJIscnoJP3o"
      },
      "source": [
        "We can see that there is one Outlier for Wins output and Runs input attributes as per above visualisation plot."
      ]
    },
    {
      "cell_type": "code",
      "metadata": {
        "id": "exLrgnTgCBYd",
        "colab": {
          "base_uri": "https://localhost:8080/",
          "height": 296
        },
        "outputId": "377055c7-3944-4a0e-ed23-cc5898865bac"
      },
      "source": [
        "#removing the outlier\n",
        "df=df.drop(df[(df['Runs']>850) & (df['Runs']<900)].index)\n",
        "data_plot=pd.concat([df['Runs'],df['Wins']],axis=1)\n",
        "data_plot.plot.scatter(x='Runs',y='Wins')"
      ],
      "execution_count": 19,
      "outputs": [
        {
          "output_type": "execute_result",
          "data": {
            "text/plain": [
              "<matplotlib.axes._subplots.AxesSubplot at 0x7fbb09c887d0>"
            ]
          },
          "metadata": {
            "tags": []
          },
          "execution_count": 19
        },
        {
          "output_type": "display_data",
          "data": {
            "image/png": "[encoded data removed]",
            "text/plain": [
              "<Figure size 432x288 with 1 Axes>"
            ]
          },
          "metadata": {
            "tags": [],
            "needs_background": "light"
          }
        }
      ]
    },
    {
      "cell_type": "code",
      "metadata": {
        "id": "73Mu83TjJaco",
        "colab": {
          "base_uri": "https://localhost:8080/",
          "height": 296
        },
        "outputId": "9d0201ad-cc6d-43c2-d69e-6817cf35532b"
      },
      "source": [
        "data_plot=pd.concat([dummy_data['Wins'],dummy_data['Earned Run Average (ERA)']],axis=1)\n",
        "data_plot.plot.scatter(x='Earned Run Average (ERA)',y='Wins')"
      ],
      "execution_count": 20,
      "outputs": [
        {
          "output_type": "execute_result",
          "data": {
            "text/plain": [
              "<matplotlib.axes._subplots.AxesSubplot at 0x7fbb09f09590>"
            ]
          },
          "metadata": {
            "tags": []
          },
          "execution_count": 20
        },
        {
          "output_type": "display_data",
          "data": {
            "image/png": "[encoded data removed]",
            "text/plain": [
              "<Figure size 432x288 with 1 Axes>"
            ]
          },
          "metadata": {
            "tags": [],
            "needs_background": "light"
          }
        }
      ]
    },
    {
      "cell_type": "markdown",
      "metadata": {
        "id": "-yWi-XItJejK"
      },
      "source": [
        "We can see that there are no Outliers for Wins output and Earned Run Average (ERA) input attributes as per above visualisation plot."
      ]
    },
    {
      "cell_type": "code",
      "metadata": {
        "id": "jdMz8hprJdBD",
        "colab": {
          "base_uri": "https://localhost:8080/",
          "height": 296
        },
        "outputId": "7bff1a37-273e-48f1-bb1d-0666bc754f9b"
      },
      "source": [
        "data_plot=pd.concat([dummy_data['Wins'],dummy_data['Shutouts']],axis=1)\n",
        "data_plot.plot.scatter(x='Shutouts',y='Wins')"
      ],
      "execution_count": 21,
      "outputs": [
        {
          "output_type": "execute_result",
          "data": {
            "text/plain": [
              "<matplotlib.axes._subplots.AxesSubplot at 0x7fbb08be8a10>"
            ]
          },
          "metadata": {
            "tags": []
          },
          "execution_count": 21
        },
        {
          "output_type": "display_data",
          "data": {
            "image/png": "[encoded data removed]",
            "text/plain": [
              "<Figure size 432x288 with 1 Axes>"
            ]
          },
          "metadata": {
            "tags": [],
            "needs_background": "light"
          }
        }
      ]
    },
    {
      "cell_type": "markdown",
      "metadata": {
        "id": "ObfsIljGJimt"
      },
      "source": [
        "We can see that there are no Outliers for Wins output and Shutouts input attributes as per above visualisation plot."
      ]
    },
    {
      "cell_type": "code",
      "metadata": {
        "id": "m0pRYvk7JhKJ",
        "colab": {
          "base_uri": "https://localhost:8080/",
          "height": 296
        },
        "outputId": "ba8e14ef-bab7-4d1b-aa91-5c16a15740b8"
      },
      "source": [
        "#removing the outlier\n",
        "df=df.drop(df[(df['Shutouts']>17.5) & (df['Shutouts']<22.5)].index)\n",
        "data_plot=pd.concat([df['Shutouts'],df['Wins']],axis=1)\n",
        "data_plot.plot.scatter(x='Shutouts',y='Wins')"
      ],
      "execution_count": 22,
      "outputs": [
        {
          "output_type": "execute_result",
          "data": {
            "text/plain": [
              "<matplotlib.axes._subplots.AxesSubplot at 0x7fbb08aed0d0>"
            ]
          },
          "metadata": {
            "tags": []
          },
          "execution_count": 22
        },
        {
          "output_type": "display_data",
          "data": {
            "image/png": "[encoded data removed]",
            "text/plain": [
              "<Figure size 432x288 with 1 Axes>"
            ]
          },
          "metadata": {
            "tags": [],
            "needs_background": "light"
          }
        }
      ]
    },
    {
      "cell_type": "code",
      "metadata": {
        "id": "cCulIjsSJlJ1",
        "colab": {
          "base_uri": "https://localhost:8080/",
          "height": 296
        },
        "outputId": "9a05c247-c33a-41e1-df61-d09a7a79f384"
      },
      "source": [
        "data_plot=pd.concat([dummy_data['Wins'],dummy_data['Saves']],axis=1)\n",
        "data_plot.plot.scatter(x='Saves',y='Wins')"
      ],
      "execution_count": 23,
      "outputs": [
        {
          "output_type": "execute_result",
          "data": {
            "text/plain": [
              "<matplotlib.axes._subplots.AxesSubplot at 0x7fbb08adc790>"
            ]
          },
          "metadata": {
            "tags": []
          },
          "execution_count": 23
        },
        {
          "output_type": "display_data",
          "data": {
            "image/png": "[encoded data removed]",
            "text/plain": [
              "<Figure size 432x288 with 1 Axes>"
            ]
          },
          "metadata": {
            "tags": [],
            "needs_background": "light"
          }
        }
      ]
    },
    {
      "cell_type": "markdown",
      "metadata": {
        "id": "CFxrFVZ0Joij"
      },
      "source": [
        "There are no considerate outliers here."
      ]
    },
    {
      "cell_type": "code",
      "metadata": {
        "id": "36iDEQIHJnHx",
        "colab": {
          "base_uri": "https://localhost:8080/",
          "height": 296
        },
        "outputId": "52d0b67f-e278-4987-b3f8-295cfa0d7e64"
      },
      "source": [
        "data_plot=pd.concat([dummy_data['Wins'],dummy_data['Errors']],axis=1)\n",
        "data_plot.plot.scatter(x='Errors',y='Wins')"
      ],
      "execution_count": 24,
      "outputs": [
        {
          "output_type": "execute_result",
          "data": {
            "text/plain": [
              "<matplotlib.axes._subplots.AxesSubplot at 0x7fbb08a448d0>"
            ]
          },
          "metadata": {
            "tags": []
          },
          "execution_count": 24
        },
        {
          "output_type": "display_data",
          "data": {
            "image/png": "[encoded data removed]",
            "text/plain": [
              "<Figure size 432x288 with 1 Axes>"
            ]
          },
          "metadata": {
            "tags": [],
            "needs_background": "light"
          }
        }
      ]
    },
    {
      "cell_type": "markdown",
      "metadata": {
        "id": "xRgtS3IyJ8I6"
      },
      "source": [
        "We can see that there are few outliers between 110 and 130"
      ]
    },
    {
      "cell_type": "code",
      "metadata": {
        "id": "R7gWJ6UoJ48n",
        "colab": {
          "base_uri": "https://localhost:8080/",
          "height": 296
        },
        "outputId": "de4cbce3-ae95-4ae5-e9bd-df162541011d"
      },
      "source": [
        "#removing the outliers\n",
        "df=df.drop(df[(df['Errors']>110) & (df['Errors']<130)].index)\n",
        "data_plot=pd.concat([df['Errors'],df['Wins']],axis=1)\n",
        "data_plot.plot.scatter(x='Errors',y='Wins')"
      ],
      "execution_count": 25,
      "outputs": [
        {
          "output_type": "execute_result",
          "data": {
            "text/plain": [
              "<matplotlib.axes._subplots.AxesSubplot at 0x7fbb156eab50>"
            ]
          },
          "metadata": {
            "tags": []
          },
          "execution_count": 25
        },
        {
          "output_type": "display_data",
          "data": {
            "image/png": "[encoded data removed]",
            "text/plain": [
              "<Figure size 432x288 with 1 Axes>"
            ]
          },
          "metadata": {
            "tags": [],
            "needs_background": "light"
          }
        }
      ]
    },
    {
      "cell_type": "code",
      "metadata": {
        "id": "4fdTipxNMso5"
      },
      "source": [
        "# Creating bins for the win column\n",
        "def assign_win_bins(Wins):\n",
        "    if Wins < 50:\n",
        "        return 1\n",
        "    if Wins >= 50 and Wins <= 69:\n",
        "        return 2\n",
        "    if Wins >= 70 and Wins <= 89:\n",
        "        return 3\n",
        "    if Wins >= 90 and Wins <= 109:\n",
        "        return 4\n",
        "    if Wins >= 110:\n",
        "        return 5\n",
        "    \n",
        "df['win_bins'] = df['Wins'].apply(assign_win_bins)"
      ],
      "execution_count": 26,
      "outputs": []
    },
    {
      "cell_type": "code",
      "metadata": {
        "id": "E95dpJwpMsru"
      },
      "source": [
        "# Create new features for Runs per Game and Runs Allowed per Game\n",
        "df['R_per_game'] = df['Runs'] / df['CG']\n",
        "df['RA_per_game'] = df['Runs Allowed'] / df['CG']"
      ],
      "execution_count": 27,
      "outputs": []
    },
    {
      "cell_type": "code",
      "metadata": {
        "id": "HMQye5NkMsxX",
        "colab": {
          "base_uri": "https://localhost:8080/",
          "height": 404
        },
        "outputId": "08f775d5-c45c-4f13-e065-41fc26c92b5f"
      },
      "source": [
        "# Create scatter plots for runs per game vs. wins and runs allowed per game vs. wins\n",
        "fig = plt.figure(figsize=(12, 6))\n",
        "\n",
        "ax1 = fig.add_subplot(1,2,1)\n",
        "ax2 = fig.add_subplot(1,2,2)\n",
        "\n",
        "ax1.scatter(df['R_per_game'], df['Wins'], c='green')\n",
        "ax1.set_title('Runs per Game vs. Wins')\n",
        "ax1.set_ylabel('Wins')\n",
        "ax1.set_xlabel('Runs per Game')\n",
        "\n",
        "ax2.scatter(df['RA_per_game'], df['Wins'], c='blue')\n",
        "ax2.set_title('Runs Allowed per Game vs. Wins')\n",
        "ax2.set_xlabel('Runs Allowed per Game')\n",
        "\n",
        "plt.show()"
      ],
      "execution_count": 28,
      "outputs": [
        {
          "output_type": "display_data",
          "data": {
            "image/png": "[encoded data removed]",
            "text/plain": [
              "<Figure size 864x432 with 2 Axes>"
            ]
          },
          "metadata": {
            "tags": [],
            "needs_background": "light"
          }
        }
      ]
    },
    {
      "cell_type": "markdown",
      "metadata": {
        "id": "piRUMU0omDIn"
      },
      "source": [
        "##### Encoding"
      ]
    },
    {
      "cell_type": "code",
      "metadata": {
        "id": "K6eK_PvFQO-z"
      },
      "source": [
        "from sklearn import preprocessing\n",
        "labelencoder=preprocessing.LabelEncoder()\n",
        "for column in df.columns:\n",
        "    df['Wins'] = labelencoder.fit_transform(df[\"Wins\"])"
      ],
      "execution_count": 30,
      "outputs": []
    },
    {
      "cell_type": "code",
      "metadata": {
        "colab": {
          "base_uri": "https://localhost:8080/"
        },
        "id": "KQuad_FJT9M9",
        "outputId": "da08e5fb-81ae-4102-f9a5-f089884f621f"
      },
      "source": [
        "df['Wins'].value_counts()"
      ],
      "execution_count": 31,
      "outputs": [
        {
          "output_type": "execute_result",
          "data": {
            "text/plain": [
              "4     2\n",
              "10    2\n",
              "9     2\n",
              "5     2\n",
              "16    1\n",
              "6     1\n",
              "1     1\n",
              "2     1\n",
              "3     1\n",
              "8     1\n",
              "7     1\n",
              "15    1\n",
              "11    1\n",
              "12    1\n",
              "13    1\n",
              "14    1\n",
              "0     1\n",
              "Name: Wins, dtype: int64"
            ]
          },
          "metadata": {
            "tags": []
          },
          "execution_count": 31
        }
      ]
    },
    {
      "cell_type": "code",
      "metadata": {
        "id": "e3yhrYUAQqSS"
      },
      "source": [
        "\n",
        "from sklearn.preprocessing import OneHotEncoder\n",
        "enc = OneHotEncoder(handle_unknown='ignore')\n",
        "df['Wins'] = labelencoder.fit_transform(df[\"Wins\"])"
      ],
      "execution_count": 32,
      "outputs": []
    },
    {
      "cell_type": "markdown",
      "metadata": {
        "id": "jM6KHgITKwNU"
      },
      "source": [
        "### Preprocessing, Modeling, Evaluation"
      ]
    },
    {
      "cell_type": "code",
      "metadata": {
        "id": "sRY10NfCKBur"
      },
      "source": [
        "from sklearn.linear_model import LogisticRegression\n",
        "from sklearn import svm \n",
        "from sklearn.ensemble import RandomForestClassifier \n",
        "from sklearn.neighbors import KNeighborsClassifier \n",
        "from sklearn.naive_bayes import GaussianNB \n",
        "from sklearn.tree import DecisionTreeClassifier \n",
        "from sklearn.model_selection import train_test_split\n",
        "from sklearn import metrics \n",
        "from sklearn.metrics import confusion_matrix \n",
        "from sklearn.model_selection import GridSearchCV"
      ],
      "execution_count": 33,
      "outputs": []
    },
    {
      "cell_type": "markdown",
      "metadata": {
        "id": "LbysCsIoK0en"
      },
      "source": [
        "There is no need to apply cleaning to our dataset. Because we dont have any error or empty or null values."
      ]
    },
    {
      "cell_type": "code",
      "metadata": {
        "id": "tS-sBd_8Ky5s"
      },
      "source": [
        "from sklearn import preprocessing\n",
        "labelencoder=preprocessing.LabelEncoder()\n",
        "for column in df.columns:\n",
        "    if df[column].dtype == np.number:\n",
        "        continue\n",
        "    df[column] = labelencoder.fit_transform(df[column])"
      ],
      "execution_count": 34,
      "outputs": []
    },
    {
      "cell_type": "markdown",
      "metadata": {
        "id": "4E6EbNzzLHmI"
      },
      "source": [
        "**-----> Checking Accuracies** "
      ]
    },
    {
      "cell_type": "code",
      "metadata": {
        "id": "EUNlEGHzWenE"
      },
      "source": [
        "numerics = ['int16', 'int32', 'int64', 'float16', 'float32']\n",
        "\n",
        "newdf = df.select_dtypes(include=numerics)"
      ],
      "execution_count": 38,
      "outputs": []
    },
    {
      "cell_type": "code",
      "metadata": {
        "id": "_p1D9v7gMMDC"
      },
      "source": [
        "# Split data DataFrame into train and test sets\n",
        "train = newdf.sample(frac=0.75, random_state=1)\n",
        "test = newdf.loc[~newdf.index.isin(train.index)]\n",
        "\n",
        "x_train = train[newdf.columns]\n",
        "y_train = train['Wins']\n",
        "x_test = test[newdf.columns]\n",
        "y_test = test['Wins']"
      ],
      "execution_count": 39,
      "outputs": []
    },
    {
      "cell_type": "code",
      "metadata": {
        "id": "60BGSW37LFr_"
      },
      "source": [
        "model_log = LogisticRegression(solver='liblinear')\n",
        "model_log.fit(x_train, y_train)\n",
        "prediction_log = model_log.predict(x_test)\n",
        "\n",
        "\n",
        "model_tree = DecisionTreeClassifier() \n",
        "model_tree.fit(x_train, y_train)\n",
        "prediction_tree = model_tree.predict(x_test)\n",
        "\n",
        "model_knn = KNeighborsClassifier()\n",
        "model_knn.fit(x_train, y_train)\n",
        "prediction_knn = model_knn.predict(x_test)\n",
        "\n",
        "model_svm_l = svm.SVC(kernel='linear', C=0.1, gamma=0.1)\n",
        "model_svm_l.fit(x_train, y_train)\n",
        "prediction_svm_l = model_svm_l.predict(x_test)\n",
        "\n",
        "model_random = RandomForestClassifier(n_estimators=300)\n",
        "model_random.fit(x_train, y_train)\n",
        "predict_random = model_random.predict(x_test)\n",
        "\n",
        "model_gaus = GaussianNB()\n",
        "model_gaus.fit(x_train, y_train)\n",
        "prediction_gaus = model_gaus.predict(x_test)"
      ],
      "execution_count": 40,
      "outputs": []
    },
    {
      "cell_type": "code",
      "metadata": {
        "colab": {
          "base_uri": "https://localhost:8080/"
        },
        "id": "uJn8nT4qgIrH",
        "outputId": "0fe16068-e61c-48cf-add4-fb712fe4aa34"
      },
      "source": [
        "print('The accuracy of the Logistic Regression is',metrics.accuracy_score(prediction_log, y_test))\n",
        "print('The accuracy of the Decision Tree is ', metrics.accuracy_score(prediction_tree, y_test))\n",
        "print('The accuracy of the  K-Nearest Neighbours is ', metrics.accuracy_score(prediction_knn, y_test))\n",
        "print('The accuracy of the Linear Support Vector Machine is ', metrics.accuracy_score(prediction_svm_l, y_test))\n",
        "print('The accuracy of the  Random Forest is ', metrics.accuracy_score(predict_random, y_test))\n",
        "print('The accuracy of the  Gaussian Naive Bayes is ', metrics.accuracy_score(prediction_gaus, y_test))"
      ],
      "execution_count": 41,
      "outputs": [
        {
          "output_type": "stream",
          "text": [
            "The accuracy of the Logistic Regression is 0.0\n",
            "The accuracy of the Decision Tree is  0.0\n",
            "The accuracy of the  K-Nearest Neighbours is  0.0\n",
            "The accuracy of the Linear Support Vector Machine is  0.0\n",
            "The accuracy of the  Random Forest is  0.0\n",
            "The accuracy of the  Gaussian Naive Bayes is  0.0\n"
          ],
          "name": "stdout"
        }
      ]
    },
    {
      "cell_type": "markdown",
      "metadata": {
        "id": "NjTrfrBbmMSw"
      },
      "source": [
        "We are unable to predict with accuracy as all the models are showing zero accuracy."
      ]
    },
    {
      "cell_type": "markdown",
      "metadata": {
        "id": "jVbd6jvUmVEL"
      },
      "source": [
        "<br><br>**Checking Mean Absolute Error of the Models.**<br><br>This tells us that the average difference between the actual data value and the value predicted by the model.\n",
        "* The lower the MAE for a given model, the more closely the model is able to predict the actual values.\n",
        "\n"
      ]
    },
    {
      "cell_type": "markdown",
      "metadata": {
        "id": "61FMQMbFnCq3"
      },
      "source": [
        "--->Linear Regression Model"
      ]
    },
    {
      "cell_type": "code",
      "metadata": {
        "colab": {
          "base_uri": "https://localhost:8080/"
        },
        "id": "1_igHyDCVojF",
        "outputId": "e2877540-7592-47cf-d362-9942c953fd65"
      },
      "source": [
        "from sklearn.linear_model import LinearRegression\n",
        "\n",
        "from sklearn.metrics import mean_absolute_error\n",
        "\n",
        "lr = LinearRegression(normalize=True)\n",
        "lr.fit(x_train, y_train)\n",
        "predictions = lr.predict(x_test)\n",
        "\n",
        "mae = mean_absolute_error(y_test, predictions)\n",
        "\n",
        "print(mae)"
      ],
      "execution_count": 42,
      "outputs": [
        {
          "output_type": "stream",
          "text": [
            "1.459627387798414\n"
          ],
          "name": "stdout"
        }
      ]
    },
    {
      "cell_type": "markdown",
      "metadata": {
        "id": "lVQnCWTZnJmQ"
      },
      "source": [
        "--->Random Forest Model"
      ]
    },
    {
      "cell_type": "code",
      "metadata": {
        "colab": {
          "base_uri": "https://localhost:8080/"
        },
        "id": "3NxUiVR3g-SK",
        "outputId": "8994700c-2069-4a69-afc0-e7f4af16ec8e"
      },
      "source": [
        "from sklearn.ensemble import RandomForestClassifier \n",
        "\n",
        "from sklearn.metrics import mean_absolute_error\n",
        "\n",
        "rf = RandomForestClassifier()\n",
        "rf.fit(x_train, y_train)\n",
        "predictions = rf.predict(x_test)\n",
        "\n",
        "mae = mean_absolute_error(y_test, predictions)\n",
        "\n",
        "print(mae)"
      ],
      "execution_count": 47,
      "outputs": [
        {
          "output_type": "stream",
          "text": [
            "2.0\n"
          ],
          "name": "stdout"
        }
      ]
    },
    {
      "cell_type": "markdown",
      "metadata": {
        "id": "_C2nGhNYnOMo"
      },
      "source": [
        "--->KNN Model"
      ]
    },
    {
      "cell_type": "code",
      "metadata": {
        "colab": {
          "base_uri": "https://localhost:8080/"
        },
        "id": "PWXuapG_iJIa",
        "outputId": "01d7290d-d402-4a7f-8e84-49015c996424"
      },
      "source": [
        "from sklearn.neighbors import KNeighborsClassifier \n",
        "\n",
        "from sklearn.metrics import mean_absolute_error\n",
        "\n",
        "knn = KNeighborsClassifier()\n",
        "knn.fit(x_train, y_train)\n",
        "predictions = knn.predict(x_test)\n",
        "\n",
        "mae = mean_absolute_error(y_test, predictions)\n",
        "\n",
        "print(mae)"
      ],
      "execution_count": 48,
      "outputs": [
        {
          "output_type": "stream",
          "text": [
            "4.0\n"
          ],
          "name": "stdout"
        }
      ]
    },
    {
      "cell_type": "markdown",
      "metadata": {
        "id": "v6sF-5BpnTDC"
      },
      "source": [
        "--->SVM Model"
      ]
    },
    {
      "cell_type": "code",
      "metadata": {
        "colab": {
          "base_uri": "https://localhost:8080/"
        },
        "id": "qlsU30v3knRa",
        "outputId": "cfe5907c-9f4d-4f7c-f9f4-2cb3bdc6276a"
      },
      "source": [
        "from sklearn import svm\n",
        "\n",
        "from sklearn.metrics import mean_absolute_error\n",
        "\n",
        "model_svm_l = svm.SVC(kernel='linear', C=0.1, gamma=0.1)\n",
        "model_svm_l.fit(x_train, y_train)\n",
        "predictions = model_svm_l.predict(x_test)\n",
        "\n",
        "mae = mean_absolute_error(y_test, predictions)\n",
        "\n",
        "print(mae)"
      ],
      "execution_count": 50,
      "outputs": [
        {
          "output_type": "stream",
          "text": [
            "3.8\n"
          ],
          "name": "stdout"
        }
      ]
    },
    {
      "cell_type": "markdown",
      "metadata": {
        "id": "w_4WxaUvnYbw"
      },
      "source": [
        "---> Naive Bayes Model"
      ]
    },
    {
      "cell_type": "code",
      "metadata": {
        "colab": {
          "base_uri": "https://localhost:8080/"
        },
        "id": "0WLLylJfks9y",
        "outputId": "cf993c10-fe8e-45f7-9617-d83a5d68665d"
      },
      "source": [
        "from sklearn.naive_bayes import GaussianNB \n",
        "\n",
        "from sklearn.metrics import mean_absolute_error\n",
        "\n",
        "nb = GaussianNB()\n",
        "nb.fit(x_train, y_train)\n",
        "predictions = nb.predict(x_test)\n",
        "\n",
        "mae = mean_absolute_error(y_test, predictions)\n",
        "\n",
        "print(mae)"
      ],
      "execution_count": 51,
      "outputs": [
        {
          "output_type": "stream",
          "text": [
            "2.8\n"
          ],
          "name": "stdout"
        }
      ]
    },
    {
      "cell_type": "markdown",
      "metadata": {
        "id": "c3L8T4DPnd50"
      },
      "source": [
        "--->Decision Tree Model"
      ]
    },
    {
      "cell_type": "code",
      "metadata": {
        "colab": {
          "base_uri": "https://localhost:8080/"
        },
        "id": "FHrOsbxdktdj",
        "outputId": "431a31ae-40b0-4d05-cf94-0157bb0fca06"
      },
      "source": [
        "from sklearn.tree import DecisionTreeClassifier\n",
        "\n",
        "from sklearn.metrics import mean_absolute_error\n",
        "\n",
        "dt = DecisionTreeClassifier()\n",
        "dt.fit(x_train, y_train)\n",
        "predictions = dt.predict(x_test)\n",
        "\n",
        "mae = mean_absolute_error(y_test, predictions)\n",
        "\n",
        "print(mae)"
      ],
      "execution_count": 52,
      "outputs": [
        {
          "output_type": "stream",
          "text": [
            "4.8\n"
          ],
          "name": "stdout"
        }
      ]
    },
    {
      "cell_type": "markdown",
      "metadata": {
        "id": "1Wn7b3U4nni4"
      },
      "source": [
        "We can see that the Mean Absolute Error is less for Linear Regresssion Model followed by Random Forest Classifier Model."
      ]
    },
    {
      "cell_type": "markdown",
      "metadata": {
        "id": "obtgv9oatufF"
      },
      "source": [
        "**Hyper Parameter tuning**"
      ]
    },
    {
      "cell_type": "code",
      "metadata": {
        "id": "acRW9z5ApsC9"
      },
      "source": [
        "X=newdf.drop(['Wins'], axis=1)\n",
        "y=newdf['Wins']"
      ],
      "execution_count": 58,
      "outputs": []
    },
    {
      "cell_type": "code",
      "metadata": {
        "colab": {
          "base_uri": "https://localhost:8080/"
        },
        "id": "AUSsZsqAuUj7",
        "outputId": "e4c87daa-9645-4985-fe78-d556601faab8"
      },
      "source": [
        "from sklearn.model_selection import GridSearchCV\n",
        "from sklearn.datasets import make_classification\n",
        "from sklearn.ensemble import RandomForestClassifier\n",
        "# Build a classification task using 3 informative features\n",
        "X, y = make_classification(n_samples=30,\n",
        "                           n_features=17,\n",
        "                           n_informative=3,\n",
        "                           n_redundant=0,\n",
        "                           n_repeated=0,\n",
        "                           n_classes=2,\n",
        "                           random_state=0,\n",
        "                           shuffle=False)\n",
        "\n",
        "\n",
        "rfc = RandomForestClassifier(n_jobs=-1,max_features= 'sqrt' ,n_estimators=30, oob_score = True) \n",
        "\n",
        "param_grid = { \n",
        "    'n_estimators': [200, 700],\n",
        "    'max_features': ['auto', 'sqrt', 'log2']\n",
        "}\n",
        "\n",
        "CV_rfc = GridSearchCV(estimator=rfc, param_grid=param_grid, cv= 5)\n",
        "CV_rfc.fit(X, y)\n",
        "print(CV_rfc.best_params_)"
      ],
      "execution_count": 71,
      "outputs": [
        {
          "output_type": "stream",
          "text": [
            "{'max_features': 'auto', 'n_estimators': 200}\n"
          ],
          "name": "stdout"
        }
      ]
    },
    {
      "cell_type": "code",
      "metadata": {
        "colab": {
          "base_uri": "https://localhost:8080/"
        },
        "id": "9MJWW3lksqoS",
        "outputId": "a338fc9d-c152-4f38-e56a-171547c1a05a"
      },
      "source": [
        "hyper = {'n_estimators': n_estimator}\n",
        "gd = GridSearchCV(estimator=RandomForestClassifier(random_state=0), param_grid=hyper, verbose=True)\n",
        "gd.fit(X,y)\n",
        "print(gd.best_score_)\n",
        "print(gd.best_estimator_)"
      ],
      "execution_count": 68,
      "outputs": [
        {
          "output_type": "stream",
          "text": [
            "Fitting 5 folds for each of 30 candidates, totalling 150 fits\n"
          ],
          "name": "stdout"
        },
        {
          "output_type": "stream",
          "text": [
            "[Parallel(n_jobs=1)]: Using backend SequentialBackend with 1 concurrent workers.\n"
          ],
          "name": "stderr"
        },
        {
          "output_type": "stream",
          "text": [
            "0.6333333333333333\n",
            "RandomForestClassifier(bootstrap=True, ccp_alpha=0.0, class_weight=None,\n",
            "                       criterion='gini', max_depth=None, max_features='auto',\n",
            "                       max_leaf_nodes=None, max_samples=None,\n",
            "                       min_impurity_decrease=0.0, min_impurity_split=None,\n",
            "                       min_samples_leaf=1, min_samples_split=2,\n",
            "                       min_weight_fraction_leaf=0.0, n_estimators=4,\n",
            "                       n_jobs=None, oob_score=False, random_state=0, verbose=0,\n",
            "                       warm_start=False)\n"
          ],
          "name": "stdout"
        },
        {
          "output_type": "stream",
          "text": [
            "[Parallel(n_jobs=1)]: Done 150 out of 150 | elapsed:    3.2s finished\n"
          ],
          "name": "stderr"
        }
      ]
    },
    {
      "cell_type": "code",
      "metadata": {
        "colab": {
          "base_uri": "https://localhost:8080/"
        },
        "id": "qVuwQ9Pst7pI",
        "outputId": "a9239711-c7f7-476e-ec60-e0b637781ebd"
      },
      "source": [
        "from sklearn.metrics import r2_score, mean_squared_error\n",
        "best_reg = gd.best_estimator_\n",
        "y_pred = best_reg.predict(x_train)\n",
        "final_mae = mean_absolute_error(y_train, y_pred)\n",
        "\n",
        "final_mae"
      ],
      "execution_count": 84,
      "outputs": [
        {
          "output_type": "execute_result",
          "data": {
            "text/plain": [
              "7.0"
            ]
          },
          "metadata": {
            "tags": []
          },
          "execution_count": 84
        }
      ]
    },
    {
      "cell_type": "markdown",
      "metadata": {
        "id": "OmvqNou4wT1Z"
      },
      "source": [
        "**Saving the Model**"
      ]
    },
    {
      "cell_type": "code",
      "metadata": {
        "id": "pD2JYLuhtYrz"
      },
      "source": [
        "import joblib\n"
      ],
      "execution_count": 85,
      "outputs": []
    },
    {
      "cell_type": "code",
      "metadata": {
        "colab": {
          "base_uri": "https://localhost:8080/"
        },
        "id": "SaSwDMxewcDf",
        "outputId": "3e13ba3a-1a93-45d6-a78e-fa675dd045f8"
      },
      "source": [
        "joblib.dump(rfc, 'baseball_case_study.pkl')\n"
      ],
      "execution_count": 86,
      "outputs": [
        {
          "output_type": "execute_result",
          "data": {
            "text/plain": [
              "['baseball_case_study.pkl']"
            ]
          },
          "metadata": {
            "tags": []
          },
          "execution_count": 86
        }
      ]
    },
    {
      "cell_type": "code",
      "metadata": {
        "id": "lVJIN3N5wnIf"
      },
      "source": [
        "# Load the model from the file\n",
        "rfc_from_joblib = joblib.load('baseball_case_study.pkl')"
      ],
      "execution_count": 87,
      "outputs": []
    },
    {
      "cell_type": "code",
      "metadata": {
        "colab": {
          "base_uri": "https://localhost:8080/"
        },
        "id": "ZZ_9jupXwzFe",
        "outputId": "ce39d3a6-96d3-466e-a7a2-1ec7af254c33"
      },
      "source": [
        "rfc_from_joblib"
      ],
      "execution_count": 96,
      "outputs": [
        {
          "output_type": "execute_result",
          "data": {
            "text/plain": [
              "RandomForestClassifier(bootstrap=True, ccp_alpha=0.0, class_weight=None,\n",
              "                       criterion='gini', max_depth=None, max_features='sqrt',\n",
              "                       max_leaf_nodes=None, max_samples=None,\n",
              "                       min_impurity_decrease=0.0, min_impurity_split=None,\n",
              "                       min_samples_leaf=1, min_samples_split=2,\n",
              "                       min_weight_fraction_leaf=0.0, n_estimators=30, n_jobs=-1,\n",
              "                       oob_score=True, random_state=None, verbose=0,\n",
              "                       warm_start=False)"
            ]
          },
          "metadata": {
            "tags": []
          },
          "execution_count": 96
        }
      ]
    },
    {
      "cell_type": "code",
      "metadata": {
        "id": "Sjai5e61x-kR"
      },
      "source": [
        ""
      ],
      "execution_count": null,
      "outputs": []
    }
  ]
}