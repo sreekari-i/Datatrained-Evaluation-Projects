{
  "nbformat": 4,
  "nbformat_minor": 0,
  "metadata": {
    "colab": {
      "name": "Avocado_Project.ipynb",
      "provenance": [],
      "collapsed_sections": []
    },
    "kernelspec": {
      "name": "python3",
      "display_name": "Python 3"
    },
    "language_info": {
      "name": "python"
    }
  },
  "cells": [
    {
      "cell_type": "markdown",
      "metadata": {
        "id": "mrH74RDMRKLY"
      },
      "source": [
        "# Avocado Project\n",
        "<br><br>\n",
        "### Introduction\n",
        "This data was downloaded from the Hass Avocado Board website in May of 2018 & compiled into a single CSV. <br><br>The table below represents weekly 2018 retail scan data for National retail volume (units) and price. Retail scan data comes directly from retailers’ cash registers based on actual retail sales of Hass avocados. <br><br>Starting in 2013, the table below reflects an expanded, multi-outlet retail data set. Multi-outlet reporting includes an aggregation of the following channels: grocery, mass, club, drug, dollar and military. The Average Price (of avocados) in the table reflects a per unit (per avocado) cost, even when multiple units (avocados) are sold in bags. <br><br>The Product Lookup codes (PLU’s) in the table are only for Hass avocados. Other varieties of avocados (e.g. greenskins) are not included in this table.<br><br>In this problem, we are going to use Machine Learning Models to predict the Average Price of the Avocados.<br><br>\n",
        "#### Some relevant columns in the dataset:<br>\n",
        "* Date - The date of the observation\n",
        "* AveragePrice - the average price of a single avocado\n",
        "* type - conventional or organic\n",
        "* year - the year\n",
        "* Region - the city or region of the observation\n",
        "* Total Volume - Total number of avocados sold\n",
        "* 4046 - Total number of avocados with PLU 4046 sold\n",
        "* 4225 - Total number of avocados with PLU 4225 sold\n",
        "* 4770 - Total number of avocados with PLU 4770 sold"
      ]
    },
    {
      "cell_type": "markdown",
      "metadata": {
        "id": "vB5Q8dXORskh"
      },
      "source": [
        "### <br> Importing required libraries"
      ]
    },
    {
      "cell_type": "code",
      "metadata": {
        "id": "akSnjpcQRn20"
      },
      "source": [
        "import numpy as np\n",
        "import pandas as pd\n",
        "import sklearn\n",
        "import seaborn as sns\n",
        "import matplotlib.pyplot as plt\n",
        "import warnings\n",
        "warnings.filterwarnings('ignore')"
      ],
      "execution_count": 1,
      "outputs": []
    },
    {
      "cell_type": "code",
      "metadata": {
        "colab": {
          "resources": {
            "http://localhost:8080/nbextensions/google.colab/files.js": {
              "data": "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",
              "ok": true,
              "headers": [
                [
                  "content-type",
                  "application/javascript"
                ]
              ],
              "status": 200,
              "status_text": ""
            }
          },
          "base_uri": "https://localhost:8080/",
          "height": 73
        },
        "id": "4ZszZygTRus9",
        "outputId": "8489acb6-befb-420f-a922-4a47dfb775e1"
      },
      "source": [
        "from google.colab import files\n",
        "uploaded = files.upload()"
      ],
      "execution_count": 2,
      "outputs": [
        {
          "output_type": "display_data",
          "data": {
            "text/html": [
              "\n",
              "     <input type=\"file\" id=\"files-636802a6-49ac-468c-88f3-edc88abee93f\" name=\"files[]\" multiple disabled\n",
              "        style=\"border:none\" />\n",
              "     <output id=\"result-636802a6-49ac-468c-88f3-edc88abee93f\">\n",
              "      Upload widget is only available when the cell has been executed in the\n",
              "      current browser session. Please rerun this cell to enable.\n",
              "      </output>\n",
              "      <script src=\"/nbextensions/google.colab/files.js\"></script> "
            ],
            "text/plain": [
              "<IPython.core.display.HTML object>"
            ]
          },
          "metadata": {
            "tags": []
          }
        },
        {
          "output_type": "stream",
          "text": [
            "Saving avocado_new to avocado_new (2)\n"
          ],
          "name": "stdout"
        }
      ]
    },
    {
      "cell_type": "code",
      "metadata": {
        "id": "25EcWn4NSCU0"
      },
      "source": [
        "df=pd.read_csv(\"avocado_new\")"
      ],
      "execution_count": 3,
      "outputs": []
    },
    {
      "cell_type": "markdown",
      "metadata": {
        "id": "O7VZ_KTZSWfg"
      },
      "source": [
        "### Exploratory Data Analysis"
      ]
    },
    {
      "cell_type": "code",
      "metadata": {
        "colab": {
          "base_uri": "https://localhost:8080/",
          "height": 401
        },
        "id": "seod_F2HSTww",
        "outputId": "034e8dde-bf42-451b-bd43-61ed6045dfad"
      },
      "source": [
        "df.head()"
      ],
      "execution_count": 4,
      "outputs": [
        {
          "output_type": "execute_result",
          "data": {
            "text/html": [
              "<div>\n",
              "<style scoped>\n",
              "    .dataframe tbody tr th:only-of-type {\n",
              "        vertical-align: middle;\n",
              "    }\n",
              "\n",
              "    .dataframe tbody tr th {\n",
              "        vertical-align: top;\n",
              "    }\n",
              "\n",
              "    .dataframe thead th {\n",
              "        text-align: right;\n",
              "    }\n",
              "</style>\n",
              "<table border=\"1\" class=\"dataframe\">\n",
              "  <thead>\n",
              "    <tr style=\"text-align: right;\">\n",
              "      <th></th>\n",
              "      <th>Unnamed: 0</th>\n",
              "      <th>Date</th>\n",
              "      <th>AveragePrice</th>\n",
              "      <th>Total Volume</th>\n",
              "      <th>4046</th>\n",
              "      <th>4225</th>\n",
              "      <th>4770</th>\n",
              "      <th>Total Bags</th>\n",
              "      <th>Small Bags</th>\n",
              "      <th>Large Bags</th>\n",
              "      <th>XLarge Bags</th>\n",
              "      <th>type</th>\n",
              "      <th>year</th>\n",
              "      <th>region</th>\n",
              "    </tr>\n",
              "  </thead>\n",
              "  <tbody>\n",
              "    <tr>\n",
              "      <th>0</th>\n",
              "      <td>0.0</td>\n",
              "      <td>27-12-2015</td>\n",
              "      <td>1.33</td>\n",
              "      <td>64236.62</td>\n",
              "      <td>1036.74</td>\n",
              "      <td>54454.85</td>\n",
              "      <td>48.16</td>\n",
              "      <td>8696.87</td>\n",
              "      <td>8603.62</td>\n",
              "      <td>93.25</td>\n",
              "      <td>0.0</td>\n",
              "      <td>conventional</td>\n",
              "      <td>2015.0</td>\n",
              "      <td>Albany</td>\n",
              "    </tr>\n",
              "    <tr>\n",
              "      <th>1</th>\n",
              "      <td>1.0</td>\n",
              "      <td>20-12-2015</td>\n",
              "      <td>1.35</td>\n",
              "      <td>54876.98</td>\n",
              "      <td>674.28</td>\n",
              "      <td>44638.81</td>\n",
              "      <td>58.33</td>\n",
              "      <td>9505.56</td>\n",
              "      <td>9408.07</td>\n",
              "      <td>97.49</td>\n",
              "      <td>0.0</td>\n",
              "      <td>conventional</td>\n",
              "      <td>2015.0</td>\n",
              "      <td>Albany</td>\n",
              "    </tr>\n",
              "    <tr>\n",
              "      <th>2</th>\n",
              "      <td>2.0</td>\n",
              "      <td>13-12-2015</td>\n",
              "      <td>0.93</td>\n",
              "      <td>118220.22</td>\n",
              "      <td>794.70</td>\n",
              "      <td>109149.67</td>\n",
              "      <td>130.50</td>\n",
              "      <td>8145.35</td>\n",
              "      <td>8042.21</td>\n",
              "      <td>103.14</td>\n",
              "      <td>0.0</td>\n",
              "      <td>conventional</td>\n",
              "      <td>2015.0</td>\n",
              "      <td>Albany</td>\n",
              "    </tr>\n",
              "    <tr>\n",
              "      <th>3</th>\n",
              "      <td>3.0</td>\n",
              "      <td>06-12-2015</td>\n",
              "      <td>1.08</td>\n",
              "      <td>78992.15</td>\n",
              "      <td>1132.00</td>\n",
              "      <td>71976.41</td>\n",
              "      <td>72.58</td>\n",
              "      <td>5811.16</td>\n",
              "      <td>5677.40</td>\n",
              "      <td>133.76</td>\n",
              "      <td>0.0</td>\n",
              "      <td>conventional</td>\n",
              "      <td>2015.0</td>\n",
              "      <td>Albany</td>\n",
              "    </tr>\n",
              "    <tr>\n",
              "      <th>4</th>\n",
              "      <td>4.0</td>\n",
              "      <td>29-11-2015</td>\n",
              "      <td>1.28</td>\n",
              "      <td>51039.60</td>\n",
              "      <td>941.48</td>\n",
              "      <td>43838.39</td>\n",
              "      <td>75.78</td>\n",
              "      <td>6183.95</td>\n",
              "      <td>5986.26</td>\n",
              "      <td>197.69</td>\n",
              "      <td>0.0</td>\n",
              "      <td>conventional</td>\n",
              "      <td>2015.0</td>\n",
              "      <td>Albany</td>\n",
              "    </tr>\n",
              "  </tbody>\n",
              "</table>\n",
              "</div>"
            ],
            "text/plain": [
              "   Unnamed: 0        Date  AveragePrice  ...          type    year  region\n",
              "0         0.0  27-12-2015          1.33  ...  conventional  2015.0  Albany\n",
              "1         1.0  20-12-2015          1.35  ...  conventional  2015.0  Albany\n",
              "2         2.0  13-12-2015          0.93  ...  conventional  2015.0  Albany\n",
              "3         3.0  06-12-2015          1.08  ...  conventional  2015.0  Albany\n",
              "4         4.0  29-11-2015          1.28  ...  conventional  2015.0  Albany\n",
              "\n",
              "[5 rows x 14 columns]"
            ]
          },
          "metadata": {
            "tags": []
          },
          "execution_count": 4
        }
      ]
    },
    {
      "cell_type": "markdown",
      "metadata": {
        "id": "L1ou4ZZKSmNv"
      },
      "source": [
        "This shows the first five rows of the dataset."
      ]
    },
    {
      "cell_type": "code",
      "metadata": {
        "colab": {
          "base_uri": "https://localhost:8080/"
        },
        "id": "SrX0GtsFSZrq",
        "outputId": "518c054f-d4b6-405b-8853-2de7569bee3b"
      },
      "source": [
        "df.shape"
      ],
      "execution_count": 5,
      "outputs": [
        {
          "output_type": "execute_result",
          "data": {
            "text/plain": [
              "(16468, 14)"
            ]
          },
          "metadata": {
            "tags": []
          },
          "execution_count": 5
        }
      ]
    },
    {
      "cell_type": "markdown",
      "metadata": {
        "id": "3DotHuyySp6p"
      },
      "source": [
        "We can see that there are 16468 rows and 14 columns in the dataset"
      ]
    },
    {
      "cell_type": "code",
      "metadata": {
        "colab": {
          "base_uri": "https://localhost:8080/"
        },
        "id": "Q9Mvmh9_Sbsa",
        "outputId": "ad0fab01-5e57-46d3-d77f-3d56380d75bc"
      },
      "source": [
        "df.columns"
      ],
      "execution_count": 6,
      "outputs": [
        {
          "output_type": "execute_result",
          "data": {
            "text/plain": [
              "Index(['Unnamed: 0', 'Date', 'AveragePrice', 'Total Volume', '4046', '4225',\n",
              "       '4770', 'Total Bags', 'Small Bags', 'Large Bags', 'XLarge Bags', 'type',\n",
              "       'year', 'region'],\n",
              "      dtype='object')"
            ]
          },
          "metadata": {
            "tags": []
          },
          "execution_count": 6
        }
      ]
    },
    {
      "cell_type": "markdown",
      "metadata": {
        "id": "BHFMmvqlSol5"
      },
      "source": [
        "We can see all the column names in the dataset."
      ]
    },
    {
      "cell_type": "markdown",
      "metadata": {
        "id": "tG-8ZL5GS0Ng"
      },
      "source": [
        "**Dropping 'Unnamed: 0' Column**"
      ]
    },
    {
      "cell_type": "code",
      "metadata": {
        "id": "DEszidHOSkAu"
      },
      "source": [
        "df.drop(['Unnamed: 0'], axis=1, inplace=True)"
      ],
      "execution_count": 7,
      "outputs": []
    },
    {
      "cell_type": "code",
      "metadata": {
        "colab": {
          "base_uri": "https://localhost:8080/"
        },
        "id": "-fCFCkupS3MX",
        "outputId": "62b17d00-3d4d-4cd6-f80d-023a697dd377"
      },
      "source": [
        "df.shape"
      ],
      "execution_count": 8,
      "outputs": [
        {
          "output_type": "execute_result",
          "data": {
            "text/plain": [
              "(16468, 13)"
            ]
          },
          "metadata": {
            "tags": []
          },
          "execution_count": 8
        }
      ]
    },
    {
      "cell_type": "markdown",
      "metadata": {
        "id": "baFR0T8SS634"
      },
      "source": [
        "There are 16468 rows and 13 columns in the dataset now."
      ]
    },
    {
      "cell_type": "code",
      "metadata": {
        "colab": {
          "base_uri": "https://localhost:8080/"
        },
        "id": "PnMOJgGpS5J_",
        "outputId": "1d06d6d7-5478-4a23-b1e7-56fc2e774c1f"
      },
      "source": [
        "df.info()"
      ],
      "execution_count": 9,
      "outputs": [
        {
          "output_type": "stream",
          "text": [
            "<class 'pandas.core.frame.DataFrame'>\n",
            "RangeIndex: 16468 entries, 0 to 16467\n",
            "Data columns (total 13 columns):\n",
            " #   Column        Non-Null Count  Dtype  \n",
            "---  ------        --------------  -----  \n",
            " 0   Date          1517 non-null   object \n",
            " 1   AveragePrice  1517 non-null   float64\n",
            " 2   Total Volume  1517 non-null   float64\n",
            " 3   4046          1517 non-null   float64\n",
            " 4   4225          1517 non-null   float64\n",
            " 5   4770          1517 non-null   float64\n",
            " 6   Total Bags    1517 non-null   float64\n",
            " 7   Small Bags    1517 non-null   float64\n",
            " 8   Large Bags    1517 non-null   float64\n",
            " 9   XLarge Bags   1517 non-null   float64\n",
            " 10  type          1517 non-null   object \n",
            " 11  year          1517 non-null   float64\n",
            " 12  region        1517 non-null   object \n",
            "dtypes: float64(10), object(3)\n",
            "memory usage: 1.6+ MB\n"
          ],
          "name": "stdout"
        }
      ]
    },
    {
      "cell_type": "markdown",
      "metadata": {
        "id": "CmlpbjZPS_em"
      },
      "source": [
        "This describes the information of the the columns of the dataset. It shows the column names, count and datatype."
      ]
    },
    {
      "cell_type": "code",
      "metadata": {
        "colab": {
          "base_uri": "https://localhost:8080/"
        },
        "id": "OZvxfM0mTAK5",
        "outputId": "ab22a1f5-a21f-4684-bf1e-9574d9375f36"
      },
      "source": [
        "df.isnull().sum()"
      ],
      "execution_count": 10,
      "outputs": [
        {
          "output_type": "execute_result",
          "data": {
            "text/plain": [
              "Date            14951\n",
              "AveragePrice    14951\n",
              "Total Volume    14951\n",
              "4046            14951\n",
              "4225            14951\n",
              "4770            14951\n",
              "Total Bags      14951\n",
              "Small Bags      14951\n",
              "Large Bags      14951\n",
              "XLarge Bags     14951\n",
              "type            14951\n",
              "year            14951\n",
              "region          14951\n",
              "dtype: int64"
            ]
          },
          "metadata": {
            "tags": []
          },
          "execution_count": 10
        }
      ]
    },
    {
      "cell_type": "markdown",
      "metadata": {
        "id": "JWEHhXpqXK16"
      },
      "source": [
        "We can see that there are 14951 null values in all the columns."
      ]
    },
    {
      "cell_type": "markdown",
      "metadata": {
        "id": "7VRKYP76Xo2_"
      },
      "source": [
        "<br>After checking the dataset I see that there are no values from 1518 row. From this row, all the rows are missing values for all the columns.<br><br>Hence,dropping these rows."
      ]
    },
    {
      "cell_type": "code",
      "metadata": {
        "id": "eYm-fda1S9lP"
      },
      "source": [
        "#dropping null values\n",
        "DF=  df.drop(df.index[1517:])"
      ],
      "execution_count": 11,
      "outputs": []
    },
    {
      "cell_type": "code",
      "metadata": {
        "colab": {
          "base_uri": "https://localhost:8080/"
        },
        "id": "8DE4PCntYqLQ",
        "outputId": "01cc4776-63c6-4674-d6c4-1b7153b2bc73"
      },
      "source": [
        "DF.shape"
      ],
      "execution_count": 12,
      "outputs": [
        {
          "output_type": "execute_result",
          "data": {
            "text/plain": [
              "(1517, 13)"
            ]
          },
          "metadata": {
            "tags": []
          },
          "execution_count": 12
        }
      ]
    },
    {
      "cell_type": "markdown",
      "metadata": {
        "id": "d4y0VQi2YyYL"
      },
      "source": [
        "**Doing Exploratory Data Analysis on the new dataset created after dropping all the null values.**"
      ]
    },
    {
      "cell_type": "code",
      "metadata": {
        "colab": {
          "base_uri": "https://localhost:8080/",
          "height": 401
        },
        "id": "4HwlN-3DYtj4",
        "outputId": "b7e924f4-6d91-4901-e9a9-a777d10924e3"
      },
      "source": [
        "DF.head()"
      ],
      "execution_count": 13,
      "outputs": [
        {
          "output_type": "execute_result",
          "data": {
            "text/html": [
              "<div>\n",
              "<style scoped>\n",
              "    .dataframe tbody tr th:only-of-type {\n",
              "        vertical-align: middle;\n",
              "    }\n",
              "\n",
              "    .dataframe tbody tr th {\n",
              "        vertical-align: top;\n",
              "    }\n",
              "\n",
              "    .dataframe thead th {\n",
              "        text-align: right;\n",
              "    }\n",
              "</style>\n",
              "<table border=\"1\" class=\"dataframe\">\n",
              "  <thead>\n",
              "    <tr style=\"text-align: right;\">\n",
              "      <th></th>\n",
              "      <th>Date</th>\n",
              "      <th>AveragePrice</th>\n",
              "      <th>Total Volume</th>\n",
              "      <th>4046</th>\n",
              "      <th>4225</th>\n",
              "      <th>4770</th>\n",
              "      <th>Total Bags</th>\n",
              "      <th>Small Bags</th>\n",
              "      <th>Large Bags</th>\n",
              "      <th>XLarge Bags</th>\n",
              "      <th>type</th>\n",
              "      <th>year</th>\n",
              "      <th>region</th>\n",
              "    </tr>\n",
              "  </thead>\n",
              "  <tbody>\n",
              "    <tr>\n",
              "      <th>0</th>\n",
              "      <td>27-12-2015</td>\n",
              "      <td>1.33</td>\n",
              "      <td>64236.62</td>\n",
              "      <td>1036.74</td>\n",
              "      <td>54454.85</td>\n",
              "      <td>48.16</td>\n",
              "      <td>8696.87</td>\n",
              "      <td>8603.62</td>\n",
              "      <td>93.25</td>\n",
              "      <td>0.0</td>\n",
              "      <td>conventional</td>\n",
              "      <td>2015.0</td>\n",
              "      <td>Albany</td>\n",
              "    </tr>\n",
              "    <tr>\n",
              "      <th>1</th>\n",
              "      <td>20-12-2015</td>\n",
              "      <td>1.35</td>\n",
              "      <td>54876.98</td>\n",
              "      <td>674.28</td>\n",
              "      <td>44638.81</td>\n",
              "      <td>58.33</td>\n",
              "      <td>9505.56</td>\n",
              "      <td>9408.07</td>\n",
              "      <td>97.49</td>\n",
              "      <td>0.0</td>\n",
              "      <td>conventional</td>\n",
              "      <td>2015.0</td>\n",
              "      <td>Albany</td>\n",
              "    </tr>\n",
              "    <tr>\n",
              "      <th>2</th>\n",
              "      <td>13-12-2015</td>\n",
              "      <td>0.93</td>\n",
              "      <td>118220.22</td>\n",
              "      <td>794.70</td>\n",
              "      <td>109149.67</td>\n",
              "      <td>130.50</td>\n",
              "      <td>8145.35</td>\n",
              "      <td>8042.21</td>\n",
              "      <td>103.14</td>\n",
              "      <td>0.0</td>\n",
              "      <td>conventional</td>\n",
              "      <td>2015.0</td>\n",
              "      <td>Albany</td>\n",
              "    </tr>\n",
              "    <tr>\n",
              "      <th>3</th>\n",
              "      <td>06-12-2015</td>\n",
              "      <td>1.08</td>\n",
              "      <td>78992.15</td>\n",
              "      <td>1132.00</td>\n",
              "      <td>71976.41</td>\n",
              "      <td>72.58</td>\n",
              "      <td>5811.16</td>\n",
              "      <td>5677.40</td>\n",
              "      <td>133.76</td>\n",
              "      <td>0.0</td>\n",
              "      <td>conventional</td>\n",
              "      <td>2015.0</td>\n",
              "      <td>Albany</td>\n",
              "    </tr>\n",
              "    <tr>\n",
              "      <th>4</th>\n",
              "      <td>29-11-2015</td>\n",
              "      <td>1.28</td>\n",
              "      <td>51039.60</td>\n",
              "      <td>941.48</td>\n",
              "      <td>43838.39</td>\n",
              "      <td>75.78</td>\n",
              "      <td>6183.95</td>\n",
              "      <td>5986.26</td>\n",
              "      <td>197.69</td>\n",
              "      <td>0.0</td>\n",
              "      <td>conventional</td>\n",
              "      <td>2015.0</td>\n",
              "      <td>Albany</td>\n",
              "    </tr>\n",
              "  </tbody>\n",
              "</table>\n",
              "</div>"
            ],
            "text/plain": [
              "         Date  AveragePrice  Total Volume  ...          type    year  region\n",
              "0  27-12-2015          1.33      64236.62  ...  conventional  2015.0  Albany\n",
              "1  20-12-2015          1.35      54876.98  ...  conventional  2015.0  Albany\n",
              "2  13-12-2015          0.93     118220.22  ...  conventional  2015.0  Albany\n",
              "3  06-12-2015          1.08      78992.15  ...  conventional  2015.0  Albany\n",
              "4  29-11-2015          1.28      51039.60  ...  conventional  2015.0  Albany\n",
              "\n",
              "[5 rows x 13 columns]"
            ]
          },
          "metadata": {
            "tags": []
          },
          "execution_count": 13
        }
      ]
    },
    {
      "cell_type": "code",
      "metadata": {
        "colab": {
          "base_uri": "https://localhost:8080/"
        },
        "id": "7L21h9gjZPCr",
        "outputId": "f4b8a02b-f9f4-47fb-9223-50d570822473"
      },
      "source": [
        "DF.shape"
      ],
      "execution_count": 14,
      "outputs": [
        {
          "output_type": "execute_result",
          "data": {
            "text/plain": [
              "(1517, 13)"
            ]
          },
          "metadata": {
            "tags": []
          },
          "execution_count": 14
        }
      ]
    },
    {
      "cell_type": "markdown",
      "metadata": {
        "id": "xZC52ZejZTsO"
      },
      "source": [
        "Now we can see that there are 1517 rows and 13 columns."
      ]
    },
    {
      "cell_type": "code",
      "metadata": {
        "colab": {
          "base_uri": "https://localhost:8080/"
        },
        "id": "fTo_NsKfZSLq",
        "outputId": "ec14ae08-7850-4059-c574-8a23a51f1b78"
      },
      "source": [
        "DF.columns"
      ],
      "execution_count": 15,
      "outputs": [
        {
          "output_type": "execute_result",
          "data": {
            "text/plain": [
              "Index(['Date', 'AveragePrice', 'Total Volume', '4046', '4225', '4770',\n",
              "       'Total Bags', 'Small Bags', 'Large Bags', 'XLarge Bags', 'type', 'year',\n",
              "       'region'],\n",
              "      dtype='object')"
            ]
          },
          "metadata": {
            "tags": []
          },
          "execution_count": 15
        }
      ]
    },
    {
      "cell_type": "code",
      "metadata": {
        "colab": {
          "base_uri": "https://localhost:8080/"
        },
        "id": "ybvYYA6NZV37",
        "outputId": "08ebc2ec-1c71-461c-c64d-ba31381a5a4a"
      },
      "source": [
        "DF.info()"
      ],
      "execution_count": 16,
      "outputs": [
        {
          "output_type": "stream",
          "text": [
            "<class 'pandas.core.frame.DataFrame'>\n",
            "Int64Index: 1517 entries, 0 to 1516\n",
            "Data columns (total 13 columns):\n",
            " #   Column        Non-Null Count  Dtype  \n",
            "---  ------        --------------  -----  \n",
            " 0   Date          1517 non-null   object \n",
            " 1   AveragePrice  1517 non-null   float64\n",
            " 2   Total Volume  1517 non-null   float64\n",
            " 3   4046          1517 non-null   float64\n",
            " 4   4225          1517 non-null   float64\n",
            " 5   4770          1517 non-null   float64\n",
            " 6   Total Bags    1517 non-null   float64\n",
            " 7   Small Bags    1517 non-null   float64\n",
            " 8   Large Bags    1517 non-null   float64\n",
            " 9   XLarge Bags   1517 non-null   float64\n",
            " 10  type          1517 non-null   object \n",
            " 11  year          1517 non-null   float64\n",
            " 12  region        1517 non-null   object \n",
            "dtypes: float64(10), object(3)\n",
            "memory usage: 165.9+ KB\n"
          ],
          "name": "stdout"
        }
      ]
    },
    {
      "cell_type": "markdown",
      "metadata": {
        "id": "wpr8Y5fwZapr"
      },
      "source": [
        "This describes the information of the the columns of the dataset. It shows the column names, count and datatype. Also, we can see that there are no missing values in the dataset."
      ]
    },
    {
      "cell_type": "code",
      "metadata": {
        "colab": {
          "base_uri": "https://localhost:8080/"
        },
        "id": "OmV0uEIhZYCn",
        "outputId": "25860b7d-dee1-4201-e20c-d7476f469973"
      },
      "source": [
        "DF.isnull().sum()"
      ],
      "execution_count": 17,
      "outputs": [
        {
          "output_type": "execute_result",
          "data": {
            "text/plain": [
              "Date            0\n",
              "AveragePrice    0\n",
              "Total Volume    0\n",
              "4046            0\n",
              "4225            0\n",
              "4770            0\n",
              "Total Bags      0\n",
              "Small Bags      0\n",
              "Large Bags      0\n",
              "XLarge Bags     0\n",
              "type            0\n",
              "year            0\n",
              "region          0\n",
              "dtype: int64"
            ]
          },
          "metadata": {
            "tags": []
          },
          "execution_count": 17
        }
      ]
    },
    {
      "cell_type": "markdown",
      "metadata": {
        "id": "l7HmbI7UZfS4"
      },
      "source": [
        "There are no missing values in the dataset now"
      ]
    },
    {
      "cell_type": "code",
      "metadata": {
        "colab": {
          "base_uri": "https://localhost:8080/"
        },
        "id": "0MAcgPYQZc31",
        "outputId": "d2234144-f915-43fb-de05-31c77a46ccdc"
      },
      "source": [
        "DF.dtypes"
      ],
      "execution_count": 18,
      "outputs": [
        {
          "output_type": "execute_result",
          "data": {
            "text/plain": [
              "Date             object\n",
              "AveragePrice    float64\n",
              "Total Volume    float64\n",
              "4046            float64\n",
              "4225            float64\n",
              "4770            float64\n",
              "Total Bags      float64\n",
              "Small Bags      float64\n",
              "Large Bags      float64\n",
              "XLarge Bags     float64\n",
              "type             object\n",
              "year            float64\n",
              "region           object\n",
              "dtype: object"
            ]
          },
          "metadata": {
            "tags": []
          },
          "execution_count": 18
        }
      ]
    },
    {
      "cell_type": "markdown",
      "metadata": {
        "id": "BJz__rtVZj1Z"
      },
      "source": [
        "We can see the datatypes of all the columns here."
      ]
    },
    {
      "cell_type": "code",
      "metadata": {
        "colab": {
          "base_uri": "https://localhost:8080/",
          "height": 324
        },
        "id": "uyZKrHjsZhh7",
        "outputId": "18ee9da6-f98b-4b76-f67e-8e7713745c46"
      },
      "source": [
        "DF.describe()"
      ],
      "execution_count": 19,
      "outputs": [
        {
          "output_type": "execute_result",
          "data": {
            "text/html": [
              "<div>\n",
              "<style scoped>\n",
              "    .dataframe tbody tr th:only-of-type {\n",
              "        vertical-align: middle;\n",
              "    }\n",
              "\n",
              "    .dataframe tbody tr th {\n",
              "        vertical-align: top;\n",
              "    }\n",
              "\n",
              "    .dataframe thead th {\n",
              "        text-align: right;\n",
              "    }\n",
              "</style>\n",
              "<table border=\"1\" class=\"dataframe\">\n",
              "  <thead>\n",
              "    <tr style=\"text-align: right;\">\n",
              "      <th></th>\n",
              "      <th>AveragePrice</th>\n",
              "      <th>Total Volume</th>\n",
              "      <th>4046</th>\n",
              "      <th>4225</th>\n",
              "      <th>4770</th>\n",
              "      <th>Total Bags</th>\n",
              "      <th>Small Bags</th>\n",
              "      <th>Large Bags</th>\n",
              "      <th>XLarge Bags</th>\n",
              "      <th>year</th>\n",
              "    </tr>\n",
              "  </thead>\n",
              "  <tbody>\n",
              "    <tr>\n",
              "      <th>count</th>\n",
              "      <td>1517.000000</td>\n",
              "      <td>1.517000e+03</td>\n",
              "      <td>1.517000e+03</td>\n",
              "      <td>1.517000e+03</td>\n",
              "      <td>1.517000e+03</td>\n",
              "      <td>1.517000e+03</td>\n",
              "      <td>1.517000e+03</td>\n",
              "      <td>1.517000e+03</td>\n",
              "      <td>1517.000000</td>\n",
              "      <td>1517.000000</td>\n",
              "    </tr>\n",
              "    <tr>\n",
              "      <th>mean</th>\n",
              "      <td>1.074990</td>\n",
              "      <td>1.601879e+06</td>\n",
              "      <td>6.464387e+05</td>\n",
              "      <td>6.114375e+05</td>\n",
              "      <td>5.040550e+04</td>\n",
              "      <td>2.935974e+05</td>\n",
              "      <td>2.487736e+05</td>\n",
              "      <td>4.264205e+04</td>\n",
              "      <td>2181.771074</td>\n",
              "      <td>2015.162821</td>\n",
              "    </tr>\n",
              "    <tr>\n",
              "      <th>std</th>\n",
              "      <td>0.188891</td>\n",
              "      <td>4.433143e+06</td>\n",
              "      <td>1.947614e+06</td>\n",
              "      <td>1.672906e+06</td>\n",
              "      <td>1.377812e+05</td>\n",
              "      <td>7.579765e+05</td>\n",
              "      <td>6.474765e+05</td>\n",
              "      <td>1.182157e+05</td>\n",
              "      <td>7455.712144</td>\n",
              "      <td>0.369324</td>\n",
              "    </tr>\n",
              "    <tr>\n",
              "      <th>min</th>\n",
              "      <td>0.490000</td>\n",
              "      <td>3.875074e+04</td>\n",
              "      <td>4.677200e+02</td>\n",
              "      <td>1.783770e+03</td>\n",
              "      <td>0.000000e+00</td>\n",
              "      <td>3.311770e+03</td>\n",
              "      <td>3.311770e+03</td>\n",
              "      <td>0.000000e+00</td>\n",
              "      <td>0.000000</td>\n",
              "      <td>2015.000000</td>\n",
              "    </tr>\n",
              "    <tr>\n",
              "      <th>25%</th>\n",
              "      <td>0.980000</td>\n",
              "      <td>1.474700e+05</td>\n",
              "      <td>2.040034e+04</td>\n",
              "      <td>4.147606e+04</td>\n",
              "      <td>9.112500e+02</td>\n",
              "      <td>3.620689e+04</td>\n",
              "      <td>2.972722e+04</td>\n",
              "      <td>5.407400e+02</td>\n",
              "      <td>0.000000</td>\n",
              "      <td>2015.000000</td>\n",
              "    </tr>\n",
              "    <tr>\n",
              "      <th>50%</th>\n",
              "      <td>1.080000</td>\n",
              "      <td>4.027919e+05</td>\n",
              "      <td>8.175117e+04</td>\n",
              "      <td>1.186649e+05</td>\n",
              "      <td>7.688170e+03</td>\n",
              "      <td>7.397906e+04</td>\n",
              "      <td>6.237569e+04</td>\n",
              "      <td>5.044350e+03</td>\n",
              "      <td>0.000000</td>\n",
              "      <td>2015.000000</td>\n",
              "    </tr>\n",
              "    <tr>\n",
              "      <th>75%</th>\n",
              "      <td>1.190000</td>\n",
              "      <td>9.819751e+05</td>\n",
              "      <td>3.775785e+05</td>\n",
              "      <td>4.851503e+05</td>\n",
              "      <td>2.916730e+04</td>\n",
              "      <td>1.576097e+05</td>\n",
              "      <td>1.461994e+05</td>\n",
              "      <td>2.926767e+04</td>\n",
              "      <td>401.480000</td>\n",
              "      <td>2015.000000</td>\n",
              "    </tr>\n",
              "    <tr>\n",
              "      <th>max</th>\n",
              "      <td>1.680000</td>\n",
              "      <td>4.465546e+07</td>\n",
              "      <td>1.893304e+07</td>\n",
              "      <td>1.895648e+07</td>\n",
              "      <td>1.381516e+06</td>\n",
              "      <td>6.736304e+06</td>\n",
              "      <td>5.893642e+06</td>\n",
              "      <td>1.121076e+06</td>\n",
              "      <td>108072.790000</td>\n",
              "      <td>2016.000000</td>\n",
              "    </tr>\n",
              "  </tbody>\n",
              "</table>\n",
              "</div>"
            ],
            "text/plain": [
              "       AveragePrice  Total Volume  ...    XLarge Bags         year\n",
              "count   1517.000000  1.517000e+03  ...    1517.000000  1517.000000\n",
              "mean       1.074990  1.601879e+06  ...    2181.771074  2015.162821\n",
              "std        0.188891  4.433143e+06  ...    7455.712144     0.369324\n",
              "min        0.490000  3.875074e+04  ...       0.000000  2015.000000\n",
              "25%        0.980000  1.474700e+05  ...       0.000000  2015.000000\n",
              "50%        1.080000  4.027919e+05  ...       0.000000  2015.000000\n",
              "75%        1.190000  9.819751e+05  ...     401.480000  2015.000000\n",
              "max        1.680000  4.465546e+07  ...  108072.790000  2016.000000\n",
              "\n",
              "[8 rows x 10 columns]"
            ]
          },
          "metadata": {
            "tags": []
          },
          "execution_count": 19
        }
      ]
    },
    {
      "cell_type": "code",
      "metadata": {
        "colab": {
          "base_uri": "https://localhost:8080/",
          "height": 307
        },
        "id": "Iw5TlTRVZnaV",
        "outputId": "fa4d29c8-0a2e-4bf5-c07b-d64909b32b40"
      },
      "source": [
        "DF.describe().apply(lambda s: s.apply('{0:.5f}'.format))\n",
        "#correcting the scientific values in the statistical description"
      ],
      "execution_count": 20,
      "outputs": [
        {
          "output_type": "execute_result",
          "data": {
            "text/html": [
              "<div>\n",
              "<style scoped>\n",
              "    .dataframe tbody tr th:only-of-type {\n",
              "        vertical-align: middle;\n",
              "    }\n",
              "\n",
              "    .dataframe tbody tr th {\n",
              "        vertical-align: top;\n",
              "    }\n",
              "\n",
              "    .dataframe thead th {\n",
              "        text-align: right;\n",
              "    }\n",
              "</style>\n",
              "<table border=\"1\" class=\"dataframe\">\n",
              "  <thead>\n",
              "    <tr style=\"text-align: right;\">\n",
              "      <th></th>\n",
              "      <th>AveragePrice</th>\n",
              "      <th>Total Volume</th>\n",
              "      <th>4046</th>\n",
              "      <th>4225</th>\n",
              "      <th>4770</th>\n",
              "      <th>Total Bags</th>\n",
              "      <th>Small Bags</th>\n",
              "      <th>Large Bags</th>\n",
              "      <th>XLarge Bags</th>\n",
              "      <th>year</th>\n",
              "    </tr>\n",
              "  </thead>\n",
              "  <tbody>\n",
              "    <tr>\n",
              "      <th>count</th>\n",
              "      <td>1517.00000</td>\n",
              "      <td>1517.00000</td>\n",
              "      <td>1517.00000</td>\n",
              "      <td>1517.00000</td>\n",
              "      <td>1517.00000</td>\n",
              "      <td>1517.00000</td>\n",
              "      <td>1517.00000</td>\n",
              "      <td>1517.00000</td>\n",
              "      <td>1517.00000</td>\n",
              "      <td>1517.00000</td>\n",
              "    </tr>\n",
              "    <tr>\n",
              "      <th>mean</th>\n",
              "      <td>1.07499</td>\n",
              "      <td>1601879.06784</td>\n",
              "      <td>646438.65411</td>\n",
              "      <td>611437.50259</td>\n",
              "      <td>50405.49540</td>\n",
              "      <td>293597.41574</td>\n",
              "      <td>248773.59529</td>\n",
              "      <td>42642.04937</td>\n",
              "      <td>2181.77107</td>\n",
              "      <td>2015.16282</td>\n",
              "    </tr>\n",
              "    <tr>\n",
              "      <th>std</th>\n",
              "      <td>0.18889</td>\n",
              "      <td>4433142.82075</td>\n",
              "      <td>1947613.56974</td>\n",
              "      <td>1672906.16466</td>\n",
              "      <td>137781.24924</td>\n",
              "      <td>757976.53132</td>\n",
              "      <td>647476.52050</td>\n",
              "      <td>118215.68184</td>\n",
              "      <td>7455.71214</td>\n",
              "      <td>0.36932</td>\n",
              "    </tr>\n",
              "    <tr>\n",
              "      <th>min</th>\n",
              "      <td>0.49000</td>\n",
              "      <td>38750.74000</td>\n",
              "      <td>467.72000</td>\n",
              "      <td>1783.77000</td>\n",
              "      <td>0.00000</td>\n",
              "      <td>3311.77000</td>\n",
              "      <td>3311.77000</td>\n",
              "      <td>0.00000</td>\n",
              "      <td>0.00000</td>\n",
              "      <td>2015.00000</td>\n",
              "    </tr>\n",
              "    <tr>\n",
              "      <th>25%</th>\n",
              "      <td>0.98000</td>\n",
              "      <td>147469.99000</td>\n",
              "      <td>20400.34000</td>\n",
              "      <td>41476.06000</td>\n",
              "      <td>911.25000</td>\n",
              "      <td>36206.89000</td>\n",
              "      <td>29727.22000</td>\n",
              "      <td>540.74000</td>\n",
              "      <td>0.00000</td>\n",
              "      <td>2015.00000</td>\n",
              "    </tr>\n",
              "    <tr>\n",
              "      <th>50%</th>\n",
              "      <td>1.08000</td>\n",
              "      <td>402791.86000</td>\n",
              "      <td>81751.17000</td>\n",
              "      <td>118664.89000</td>\n",
              "      <td>7688.17000</td>\n",
              "      <td>73979.06000</td>\n",
              "      <td>62375.69000</td>\n",
              "      <td>5044.35000</td>\n",
              "      <td>0.00000</td>\n",
              "      <td>2015.00000</td>\n",
              "    </tr>\n",
              "    <tr>\n",
              "      <th>75%</th>\n",
              "      <td>1.19000</td>\n",
              "      <td>981975.08000</td>\n",
              "      <td>377578.48000</td>\n",
              "      <td>485150.34000</td>\n",
              "      <td>29167.30000</td>\n",
              "      <td>157609.68000</td>\n",
              "      <td>146199.35000</td>\n",
              "      <td>29267.67000</td>\n",
              "      <td>401.48000</td>\n",
              "      <td>2015.00000</td>\n",
              "    </tr>\n",
              "    <tr>\n",
              "      <th>max</th>\n",
              "      <td>1.68000</td>\n",
              "      <td>44655461.51000</td>\n",
              "      <td>18933038.04000</td>\n",
              "      <td>18956479.74000</td>\n",
              "      <td>1381516.11000</td>\n",
              "      <td>6736304.04000</td>\n",
              "      <td>5893641.72000</td>\n",
              "      <td>1121076.47000</td>\n",
              "      <td>108072.79000</td>\n",
              "      <td>2016.00000</td>\n",
              "    </tr>\n",
              "  </tbody>\n",
              "</table>\n",
              "</div>"
            ],
            "text/plain": [
              "      AveragePrice    Total Volume  ...   XLarge Bags        year\n",
              "count   1517.00000      1517.00000  ...    1517.00000  1517.00000\n",
              "mean       1.07499   1601879.06784  ...    2181.77107  2015.16282\n",
              "std        0.18889   4433142.82075  ...    7455.71214     0.36932\n",
              "min        0.49000     38750.74000  ...       0.00000  2015.00000\n",
              "25%        0.98000    147469.99000  ...       0.00000  2015.00000\n",
              "50%        1.08000    402791.86000  ...       0.00000  2015.00000\n",
              "75%        1.19000    981975.08000  ...     401.48000  2015.00000\n",
              "max        1.68000  44655461.51000  ...  108072.79000  2016.00000\n",
              "\n",
              "[8 rows x 10 columns]"
            ]
          },
          "metadata": {
            "tags": []
          },
          "execution_count": 20
        }
      ]
    },
    {
      "cell_type": "markdown",
      "metadata": {
        "id": "gc3F8JudZw9_"
      },
      "source": [
        "As there were statistical values, corrected them here. In this, we can see the statistical information of the dataset"
      ]
    },
    {
      "cell_type": "code",
      "metadata": {
        "colab": {
          "base_uri": "https://localhost:8080/",
          "height": 582
        },
        "id": "GQegmlQSZrsm",
        "outputId": "d6117e8c-9b4f-4f53-ecf1-624599d5a458"
      },
      "source": [
        "DF.hist(figsize=(20,10), grid=True, layout=(4, 4), bins = 30)"
      ],
      "execution_count": 21,
      "outputs": [
        {
          "output_type": "execute_result",
          "data": {
            "text/plain": [
              "array([[<matplotlib.axes._subplots.AxesSubplot object at 0x7fb15d8fe5d0>,\n",
              "        <matplotlib.axes._subplots.AxesSubplot object at 0x7fb148fe6850>,\n",
              "        <matplotlib.axes._subplots.AxesSubplot object at 0x7fb1486cac50>,\n",
              "        <matplotlib.axes._subplots.AxesSubplot object at 0x7fb14868e310>],\n",
              "       [<matplotlib.axes._subplots.AxesSubplot object at 0x7fb148642990>,\n",
              "        <matplotlib.axes._subplots.AxesSubplot object at 0x7fb1485fafd0>,\n",
              "        <matplotlib.axes._subplots.AxesSubplot object at 0x7fb1485bb750>,\n",
              "        <matplotlib.axes._subplots.AxesSubplot object at 0x7fb14856fd10>],\n",
              "       [<matplotlib.axes._subplots.AxesSubplot object at 0x7fb14856fd50>,\n",
              "        <matplotlib.axes._subplots.AxesSubplot object at 0x7fb148531510>,\n",
              "        <matplotlib.axes._subplots.AxesSubplot object at 0x7fb1484a9150>,\n",
              "        <matplotlib.axes._subplots.AxesSubplot object at 0x7fb14845e7d0>],\n",
              "       [<matplotlib.axes._subplots.AxesSubplot object at 0x7fb148494e50>,\n",
              "        <matplotlib.axes._subplots.AxesSubplot object at 0x7fb148457510>,\n",
              "        <matplotlib.axes._subplots.AxesSubplot object at 0x7fb14840ab90>,\n",
              "        <matplotlib.axes._subplots.AxesSubplot object at 0x7fb1483ce250>]],\n",
              "      dtype=object)"
            ]
          },
          "metadata": {
            "tags": []
          },
          "execution_count": 21
        },
        {
          "output_type": "display_data",
          "data": {
            "image/png": "[encoded data removed]",
            "text/plain": [
              "<Figure size 1440x720 with 16 Axes>"
            ]
          },
          "metadata": {
            "tags": [],
            "needs_background": "light"
          }
        }
      ]
    },
    {
      "cell_type": "markdown",
      "metadata": {
        "id": "RJKIz1woaD0b"
      },
      "source": [
        "Histogram visualisation for each attribute showing what kind of distribution it is."
      ]
    },
    {
      "cell_type": "code",
      "metadata": {
        "colab": {
          "base_uri": "https://localhost:8080/"
        },
        "id": "9DTrnktZaBMw",
        "outputId": "224c32c9-b501-4ce7-ca26-f7ceda37a374"
      },
      "source": [
        "DF['AveragePrice'].value_counts()"
      ],
      "execution_count": 22,
      "outputs": [
        {
          "output_type": "execute_result",
          "data": {
            "text/plain": [
              "1.08    46\n",
              "0.99    44\n",
              "1.03    44\n",
              "1.09    43\n",
              "1.10    43\n",
              "        ..\n",
              "1.61     1\n",
              "1.66     1\n",
              "1.60     1\n",
              "0.64     1\n",
              "1.64     1\n",
              "Name: AveragePrice, Length: 113, dtype: int64"
            ]
          },
          "metadata": {
            "tags": []
          },
          "execution_count": 22
        }
      ]
    },
    {
      "cell_type": "code",
      "metadata": {
        "colab": {
          "base_uri": "https://localhost:8080/",
          "height": 345
        },
        "id": "6CWU5G5HaGrx",
        "outputId": "24ec0a24-cb4c-44f8-997f-157c4be53215"
      },
      "source": [
        "plt.subplots(figsize=(18, 8))\n",
        "sns.countplot(DF['AveragePrice'])"
      ],
      "execution_count": 23,
      "outputs": [
        {
          "output_type": "execute_result",
          "data": {
            "text/plain": [
              "<matplotlib.axes._subplots.AxesSubplot at 0x7fb147e2d490>"
            ]
          },
          "metadata": {
            "tags": []
          },
          "execution_count": 23
        },
        {
          "output_type": "display_data",
          "data": {
            "image/png": "[encoded data removed]",
            "text/plain": [
              "<Figure size 1296x576 with 1 Axes>"
            ]
          },
          "metadata": {
            "tags": [],
            "needs_background": "light"
          }
        }
      ]
    },
    {
      "cell_type": "code",
      "metadata": {
        "colab": {
          "base_uri": "https://localhost:8080/"
        },
        "id": "uquIt0fOhr34",
        "outputId": "4db795e8-f1b7-424b-b46c-ca52c6847df5"
      },
      "source": [
        "DF['region'].nunique()"
      ],
      "execution_count": 24,
      "outputs": [
        {
          "output_type": "execute_result",
          "data": {
            "text/plain": [
              "51"
            ]
          },
          "metadata": {
            "tags": []
          },
          "execution_count": 24
        }
      ]
    },
    {
      "cell_type": "markdown",
      "metadata": {
        "id": "1CJ3ha11hw06"
      },
      "source": [
        "We can see that there are 51 different regions."
      ]
    },
    {
      "cell_type": "code",
      "metadata": {
        "colab": {
          "base_uri": "https://localhost:8080/"
        },
        "id": "k-UvJ4THaNrG",
        "outputId": "cc7ddb60-baa0-4b3e-84f0-710cfedf7f1e"
      },
      "source": [
        "DF['region'].value_counts()"
      ],
      "execution_count": 25,
      "outputs": [
        {
          "output_type": "execute_result",
          "data": {
            "text/plain": [
              "California             76\n",
              "Albany                 67\n",
              "BaltimoreWashington    65\n",
              "Boise                  65\n",
              "Boston                 62\n",
              "Atlanta                54\n",
              "PhoenixTucson          52\n",
              "BuffaloRochester       51\n",
              "Spokane                49\n",
              "Columbus               47\n",
              "NewYork                44\n",
              "Jacksonville           41\n",
              "Detroit                40\n",
              "SouthCentral           39\n",
              "SanDiego               38\n",
              "West                   36\n",
              "Louisville             34\n",
              "Tampa                  34\n",
              "Charlotte              31\n",
              "Portland               30\n",
              "NorthernNewEngland     29\n",
              "Houston                29\n",
              "WestTexNewMexico       27\n",
              "TotalUS                25\n",
              "Nashville              25\n",
              "Denver                 24\n",
              "SouthCarolina          24\n",
              "GrandRapids            23\n",
              "Chicago                23\n",
              "Pittsburgh             22\n",
              "RichmondNorfolk        21\n",
              "Orlando                21\n",
              "HarrisburgScranton     19\n",
              "Syracuse               19\n",
              "GreatLakes             18\n",
              "Midsouth               18\n",
              "MiamiFtLauderdale      17\n",
              "Roanoke                17\n",
              "DallasFtWorth          17\n",
              "StLouis                16\n",
              "Indianapolis           16\n",
              "RaleighGreensboro      16\n",
              "SanFrancisco           15\n",
              "Philadelphia           13\n",
              "HartfordSpringfield    13\n",
              "Northeast              12\n",
              "Plains                 12\n",
              "LasVegas               10\n",
              "Southeast               9\n",
              "Seattle                 9\n",
              "LosAngeles              3\n",
              "Name: region, dtype: int64"
            ]
          },
          "metadata": {
            "tags": []
          },
          "execution_count": 25
        }
      ]
    },
    {
      "cell_type": "code",
      "metadata": {
        "colab": {
          "base_uri": "https://localhost:8080/",
          "height": 336
        },
        "id": "lzNNdAGsaThv",
        "outputId": "9693ec67-7138-485d-c3a4-58b3d8ab9477"
      },
      "source": [
        "plt.subplots(figsize=(18, 8))\n",
        "sns.countplot(DF['region'])"
      ],
      "execution_count": 26,
      "outputs": [
        {
          "output_type": "execute_result",
          "data": {
            "text/plain": [
              "<matplotlib.axes._subplots.AxesSubplot at 0x7fb147915990>"
            ]
          },
          "metadata": {
            "tags": []
          },
          "execution_count": 26
        },
        {
          "output_type": "display_data",
          "data": {
            "image/png": "[encoded data removed]",
            "text/plain": [
              "<Figure size 1296x576 with 1 Axes>"
            ]
          },
          "metadata": {
            "tags": [],
            "needs_background": "light"
          }
        }
      ]
    },
    {
      "cell_type": "markdown",
      "metadata": {
        "id": "5wjgARuDasEZ"
      },
      "source": [
        "This Histogram shows the distribution of Avocados based on Region."
      ]
    },
    {
      "cell_type": "markdown",
      "metadata": {
        "id": "4TTqgnpga-LT"
      },
      "source": [
        "### Checking Correlation"
      ]
    },
    {
      "cell_type": "code",
      "metadata": {
        "colab": {
          "base_uri": "https://localhost:8080/",
          "height": 384
        },
        "id": "fL1qW4K_aYCK",
        "outputId": "772b7ac3-c66a-4b04-cad7-ff9e7f32d4e9"
      },
      "source": [
        "DF.corr()"
      ],
      "execution_count": 27,
      "outputs": [
        {
          "output_type": "execute_result",
          "data": {
            "text/html": [
              "<div>\n",
              "<style scoped>\n",
              "    .dataframe tbody tr th:only-of-type {\n",
              "        vertical-align: middle;\n",
              "    }\n",
              "\n",
              "    .dataframe tbody tr th {\n",
              "        vertical-align: top;\n",
              "    }\n",
              "\n",
              "    .dataframe thead th {\n",
              "        text-align: right;\n",
              "    }\n",
              "</style>\n",
              "<table border=\"1\" class=\"dataframe\">\n",
              "  <thead>\n",
              "    <tr style=\"text-align: right;\">\n",
              "      <th></th>\n",
              "      <th>AveragePrice</th>\n",
              "      <th>Total Volume</th>\n",
              "      <th>4046</th>\n",
              "      <th>4225</th>\n",
              "      <th>4770</th>\n",
              "      <th>Total Bags</th>\n",
              "      <th>Small Bags</th>\n",
              "      <th>Large Bags</th>\n",
              "      <th>XLarge Bags</th>\n",
              "      <th>year</th>\n",
              "    </tr>\n",
              "  </thead>\n",
              "  <tbody>\n",
              "    <tr>\n",
              "      <th>AveragePrice</th>\n",
              "      <td>1.000000</td>\n",
              "      <td>-0.140470</td>\n",
              "      <td>-0.190096</td>\n",
              "      <td>-0.092084</td>\n",
              "      <td>-0.100567</td>\n",
              "      <td>-0.111597</td>\n",
              "      <td>-0.097682</td>\n",
              "      <td>-0.177480</td>\n",
              "      <td>-0.048284</td>\n",
              "      <td>0.178683</td>\n",
              "    </tr>\n",
              "    <tr>\n",
              "      <th>Total Volume</th>\n",
              "      <td>-0.140470</td>\n",
              "      <td>1.000000</td>\n",
              "      <td>0.985568</td>\n",
              "      <td>0.987154</td>\n",
              "      <td>0.934347</td>\n",
              "      <td>0.967689</td>\n",
              "      <td>0.960642</td>\n",
              "      <td>0.910226</td>\n",
              "      <td>0.521717</td>\n",
              "      <td>-0.004189</td>\n",
              "    </tr>\n",
              "    <tr>\n",
              "      <th>4046</th>\n",
              "      <td>-0.190096</td>\n",
              "      <td>0.985568</td>\n",
              "      <td>1.000000</td>\n",
              "      <td>0.951952</td>\n",
              "      <td>0.898570</td>\n",
              "      <td>0.930395</td>\n",
              "      <td>0.922278</td>\n",
              "      <td>0.884229</td>\n",
              "      <td>0.474063</td>\n",
              "      <td>-0.040439</td>\n",
              "    </tr>\n",
              "    <tr>\n",
              "      <th>4225</th>\n",
              "      <td>-0.092084</td>\n",
              "      <td>0.987154</td>\n",
              "      <td>0.951952</td>\n",
              "      <td>1.000000</td>\n",
              "      <td>0.927757</td>\n",
              "      <td>0.951779</td>\n",
              "      <td>0.943988</td>\n",
              "      <td>0.900496</td>\n",
              "      <td>0.504718</td>\n",
              "      <td>-0.007254</td>\n",
              "    </tr>\n",
              "    <tr>\n",
              "      <th>4770</th>\n",
              "      <td>-0.100567</td>\n",
              "      <td>0.934347</td>\n",
              "      <td>0.898570</td>\n",
              "      <td>0.927757</td>\n",
              "      <td>1.000000</td>\n",
              "      <td>0.926405</td>\n",
              "      <td>0.923607</td>\n",
              "      <td>0.840523</td>\n",
              "      <td>0.646053</td>\n",
              "      <td>0.029222</td>\n",
              "    </tr>\n",
              "    <tr>\n",
              "      <th>Total Bags</th>\n",
              "      <td>-0.111597</td>\n",
              "      <td>0.967689</td>\n",
              "      <td>0.930395</td>\n",
              "      <td>0.951779</td>\n",
              "      <td>0.926405</td>\n",
              "      <td>1.000000</td>\n",
              "      <td>0.997341</td>\n",
              "      <td>0.911336</td>\n",
              "      <td>0.601856</td>\n",
              "      <td>0.090108</td>\n",
              "    </tr>\n",
              "    <tr>\n",
              "      <th>Small Bags</th>\n",
              "      <td>-0.097682</td>\n",
              "      <td>0.960642</td>\n",
              "      <td>0.922278</td>\n",
              "      <td>0.943988</td>\n",
              "      <td>0.923607</td>\n",
              "      <td>0.997341</td>\n",
              "      <td>1.000000</td>\n",
              "      <td>0.879131</td>\n",
              "      <td>0.611300</td>\n",
              "      <td>0.106382</td>\n",
              "    </tr>\n",
              "    <tr>\n",
              "      <th>Large Bags</th>\n",
              "      <td>-0.177480</td>\n",
              "      <td>0.910226</td>\n",
              "      <td>0.884229</td>\n",
              "      <td>0.900496</td>\n",
              "      <td>0.840523</td>\n",
              "      <td>0.911336</td>\n",
              "      <td>0.879131</td>\n",
              "      <td>1.000000</td>\n",
              "      <td>0.447779</td>\n",
              "      <td>-0.018678</td>\n",
              "    </tr>\n",
              "    <tr>\n",
              "      <th>XLarge Bags</th>\n",
              "      <td>-0.048284</td>\n",
              "      <td>0.521717</td>\n",
              "      <td>0.474063</td>\n",
              "      <td>0.504718</td>\n",
              "      <td>0.646053</td>\n",
              "      <td>0.601856</td>\n",
              "      <td>0.611300</td>\n",
              "      <td>0.447779</td>\n",
              "      <td>1.000000</td>\n",
              "      <td>0.218342</td>\n",
              "    </tr>\n",
              "    <tr>\n",
              "      <th>year</th>\n",
              "      <td>0.178683</td>\n",
              "      <td>-0.004189</td>\n",
              "      <td>-0.040439</td>\n",
              "      <td>-0.007254</td>\n",
              "      <td>0.029222</td>\n",
              "      <td>0.090108</td>\n",
              "      <td>0.106382</td>\n",
              "      <td>-0.018678</td>\n",
              "      <td>0.218342</td>\n",
              "      <td>1.000000</td>\n",
              "    </tr>\n",
              "  </tbody>\n",
              "</table>\n",
              "</div>"
            ],
            "text/plain": [
              "              AveragePrice  Total Volume  ...  XLarge Bags      year\n",
              "AveragePrice      1.000000     -0.140470  ...    -0.048284  0.178683\n",
              "Total Volume     -0.140470      1.000000  ...     0.521717 -0.004189\n",
              "4046             -0.190096      0.985568  ...     0.474063 -0.040439\n",
              "4225             -0.092084      0.987154  ...     0.504718 -0.007254\n",
              "4770             -0.100567      0.934347  ...     0.646053  0.029222\n",
              "Total Bags       -0.111597      0.967689  ...     0.601856  0.090108\n",
              "Small Bags       -0.097682      0.960642  ...     0.611300  0.106382\n",
              "Large Bags       -0.177480      0.910226  ...     0.447779 -0.018678\n",
              "XLarge Bags      -0.048284      0.521717  ...     1.000000  0.218342\n",
              "year              0.178683     -0.004189  ...     0.218342  1.000000\n",
              "\n",
              "[10 rows x 10 columns]"
            ]
          },
          "metadata": {
            "tags": []
          },
          "execution_count": 27
        }
      ]
    },
    {
      "cell_type": "code",
      "metadata": {
        "colab": {
          "base_uri": "https://localhost:8080/",
          "height": 650
        },
        "id": "qNpCd5uDbDUJ",
        "outputId": "640202f8-6d4c-49ba-c974-2d76b23c6d54"
      },
      "source": [
        "plt.figure(figsize=(14,12))\n",
        "sns.heatmap(DF.corr(),linewidths=.1,cmap=\"YlOrRd_r\", annot=True)\n",
        "plt.yticks(rotation=0);"
      ],
      "execution_count": 28,
      "outputs": [
        {
          "output_type": "display_data",
          "data": {
            "image/png": "[encoded data removed]",
            "text/plain": [
              "<Figure size 1008x864 with 2 Axes>"
            ]
          },
          "metadata": {
            "tags": [],
            "needs_background": "light"
          }
        }
      ]
    },
    {
      "cell_type": "markdown",
      "metadata": {
        "id": "5yrE4So0bJuD"
      },
      "source": [
        "This heatmap shows the correlation between the columns. "
      ]
    },
    {
      "cell_type": "markdown",
      "metadata": {
        "id": "674paT9sjx2j"
      },
      "source": [
        "**Skewness**"
      ]
    },
    {
      "cell_type": "code",
      "metadata": {
        "colab": {
          "base_uri": "https://localhost:8080/"
        },
        "id": "ihIv-FiYbbvR",
        "outputId": "101d9d43-fa01-43c4-ba46-22fd29cf7c73"
      },
      "source": [
        "DF.skew()"
      ],
      "execution_count": 29,
      "outputs": [
        {
          "output_type": "execute_result",
          "data": {
            "text/plain": [
              "AveragePrice   -0.109444\n",
              "Total Volume    6.200138\n",
              "4046            6.051830\n",
              "4225            6.394926\n",
              "4770            5.405164\n",
              "Total Bags      5.366378\n",
              "Small Bags      5.355185\n",
              "Large Bags      5.144495\n",
              "XLarge Bags     5.775077\n",
              "year            1.828332\n",
              "dtype: float64"
            ]
          },
          "metadata": {
            "tags": []
          },
          "execution_count": 29
        }
      ]
    },
    {
      "cell_type": "markdown",
      "metadata": {
        "id": "HGtsPEfWbhR-"
      },
      "source": [
        "We can see that the data is highly skewed."
      ]
    },
    {
      "cell_type": "markdown",
      "metadata": {
        "id": "jkbHsw-Mj1pl"
      },
      "source": [
        "--->Applying log transformation"
      ]
    },
    {
      "cell_type": "code",
      "metadata": {
        "id": "wG7G6IGnj5Rg"
      },
      "source": [
        "skew=('Total Volume', '4046', '4770', 'Total Bags', 'Small Bags', 'Large Bags', 'XLarge Bags', 'year')\n",
        "for col in skew:\n",
        "  if DF.skew().loc[col]>0.5:\n",
        "    DF[col]=np.log(DF[col])"
      ],
      "execution_count": 30,
      "outputs": []
    },
    {
      "cell_type": "code",
      "metadata": {
        "colab": {
          "base_uri": "https://localhost:8080/"
        },
        "id": "zIBbOjBzlTHB",
        "outputId": "0ae96bf1-2ca0-4445-8225-85e105665689"
      },
      "source": [
        "DF.skew()"
      ],
      "execution_count": 31,
      "outputs": [
        {
          "output_type": "execute_result",
          "data": {
            "text/plain": [
              "AveragePrice   -0.109444\n",
              "Total Volume    0.667461\n",
              "4046           -0.160523\n",
              "4225            6.394926\n",
              "4770                 NaN\n",
              "Total Bags      0.695445\n",
              "Small Bags      0.713786\n",
              "Large Bags           NaN\n",
              "XLarge Bags          NaN\n",
              "year            1.828332\n",
              "dtype: float64"
            ]
          },
          "metadata": {
            "tags": []
          },
          "execution_count": 31
        }
      ]
    },
    {
      "cell_type": "markdown",
      "metadata": {
        "id": "dHHdpAK3lgUC"
      },
      "source": [
        "We can see that there is high skewness in '4225' after applying log transformation also. So applying Cube root Transformation for this column."
      ]
    },
    {
      "cell_type": "code",
      "metadata": {
        "id": "y0j58F_SlfW6"
      },
      "source": [
        "cube_root_4225 = np.cbrt(DF['4225'])"
      ],
      "execution_count": 32,
      "outputs": []
    },
    {
      "cell_type": "code",
      "metadata": {
        "colab": {
          "base_uri": "https://localhost:8080/"
        },
        "id": "MSfqKermlfaM",
        "outputId": "74c49a78-e1d7-4442-8241-c4039ca5213b"
      },
      "source": [
        "cube_root_4225.skew()"
      ],
      "execution_count": 33,
      "outputs": [
        {
          "output_type": "execute_result",
          "data": {
            "text/plain": [
              "1.7759445530437739"
            ]
          },
          "metadata": {
            "tags": []
          },
          "execution_count": 33
        }
      ]
    },
    {
      "cell_type": "markdown",
      "metadata": {
        "id": "0um68SyimNUo"
      },
      "source": [
        "We can see that the skewness is changed to 1.7759445530437739 from 6.394926."
      ]
    },
    {
      "cell_type": "markdown",
      "metadata": {
        "id": "jrGXhyQ5hIKp"
      },
      "source": [
        "**Checking Average price by Date**"
      ]
    },
    {
      "cell_type": "code",
      "metadata": {
        "colab": {
          "base_uri": "https://localhost:8080/",
          "height": 516
        },
        "id": "3hRZ4l75gp72",
        "outputId": "1074a12c-8577-4a35-debc-f44f56fde8e0"
      },
      "source": [
        "Date_=DF.groupby('Date').mean()\n",
        "plt.figure(figsize=(12,8))\n",
        "Date_['AveragePrice'].plot()\n",
        "plt.title('Average Price')"
      ],
      "execution_count": 34,
      "outputs": [
        {
          "output_type": "execute_result",
          "data": {
            "text/plain": [
              "Text(0.5, 1.0, 'Average Price')"
            ]
          },
          "metadata": {
            "tags": []
          },
          "execution_count": 34
        },
        {
          "output_type": "display_data",
          "data": {
            "image/png": "[encoded data removed]",
            "text/plain": [
              "<Figure size 864x576 with 1 Axes>"
            ]
          },
          "metadata": {
            "tags": [],
            "needs_background": "light"
          }
        }
      ]
    },
    {
      "cell_type": "markdown",
      "metadata": {
        "id": "4N6EP4iWiaWu"
      },
      "source": [
        "**Checking Average price by Year**"
      ]
    },
    {
      "cell_type": "code",
      "metadata": {
        "colab": {
          "base_uri": "https://localhost:8080/",
          "height": 296
        },
        "id": "6uWfSCaTgp-w",
        "outputId": "7aadc9ba-7271-43f9-f06e-293a5615b2c5"
      },
      "source": [
        "sns.barplot(x='year', y='AveragePrice', data=DF)"
      ],
      "execution_count": 35,
      "outputs": [
        {
          "output_type": "execute_result",
          "data": {
            "text/plain": [
              "<matplotlib.axes._subplots.AxesSubplot at 0x7fb13e2e4c10>"
            ]
          },
          "metadata": {
            "tags": []
          },
          "execution_count": 35
        },
        {
          "output_type": "display_data",
          "data": {
            "image/png": "[encoded data removed]",
            "text/plain": [
              "<Figure size 432x288 with 1 Axes>"
            ]
          },
          "metadata": {
            "tags": [],
            "needs_background": "light"
          }
        }
      ]
    },
    {
      "cell_type": "markdown",
      "metadata": {
        "id": "GZPyz9eyitj7"
      },
      "source": [
        "We can see that the Average price was higher in 2016 than that in 2015."
      ]
    },
    {
      "cell_type": "markdown",
      "metadata": {
        "id": "KKSObxWKboK6"
      },
      "source": [
        "**Handling Outliers**"
      ]
    },
    {
      "cell_type": "code",
      "metadata": {
        "colab": {
          "base_uri": "https://localhost:8080/",
          "height": 350
        },
        "id": "cBQ8sLHybeKP",
        "outputId": "5b6183ca-530a-4a80-a86c-1f238f723d23"
      },
      "source": [
        "DF.boxplot( rot = 90, figsize=(20,8))"
      ],
      "execution_count": 36,
      "outputs": [
        {
          "output_type": "execute_result",
          "data": {
            "text/plain": [
              "<matplotlib.axes._subplots.AxesSubplot at 0x7fb13e252310>"
            ]
          },
          "metadata": {
            "tags": []
          },
          "execution_count": 36
        },
        {
          "output_type": "display_data",
          "data": {
            "image/png": "[encoded data removed]",
            "text/plain": [
              "<Figure size 1440x576 with 1 Axes>"
            ]
          },
          "metadata": {
            "tags": [],
            "needs_background": "light"
          }
        }
      ]
    },
    {
      "cell_type": "markdown",
      "metadata": {
        "id": "pAJeUAiqm8Sh"
      },
      "source": [
        "We can see that there are outliers in almost all the columns."
      ]
    },
    {
      "cell_type": "markdown",
      "metadata": {
        "id": "sqN65MSPnEyT"
      },
      "source": [
        "<br>---> Calculating Z-score"
      ]
    },
    {
      "cell_type": "code",
      "metadata": {
        "colab": {
          "base_uri": "https://localhost:8080/"
        },
        "id": "QBOlsVr1bwAT",
        "outputId": "55210700-49c0-4f47-a6fd-bebf13f810f1"
      },
      "source": [
        "from scipy import stats\n",
        "from scipy.stats import zscore\n",
        "\n",
        "z_tvol=np.abs(zscore(DF['Total Volume']))\n",
        "z_score1=np.abs(zscore(DF['4046']))\n",
        "z_score2=np.abs(zscore(DF['4225']))\n",
        "z_score3=np.abs(zscore(DF['4770']))\n",
        "z_tbags=np.abs(zscore(DF['Total Bags']))\n",
        "z_sbags=np.abs(zscore(DF['Small Bags']))\n",
        "z_xlbags=np.abs(zscore(DF['XLarge Bags']))\n",
        "\n",
        "print(z_tvol)\n",
        "print(z_score1)\n",
        "print(z_score2)\n",
        "print(z_score3)\n",
        "print(z_tbags)\n",
        "print(z_sbags)\n",
        "print(z_xlbags)\n",
        "\n",
        "\n",
        "\n",
        "\n"
      ],
      "execution_count": 37,
      "outputs": [
        {
          "output_type": "stream",
          "text": [
            "[1.35676542 1.46639257 0.93213935 ... 0.64565172 0.60502956 0.62805431]\n",
            "[1.82835304 2.01246553 1.94214044 ... 0.20183865 0.13571848 0.23292521]\n",
            "[0.33305294 0.33892254 0.30034767 ... 0.33398664 0.33356795 0.33320927]\n",
            "[nan nan nan ... nan nan nan]\n",
            "[1.68476351 1.62015622 1.73236933 ... 0.25268295 0.23524543 0.1787101 ]\n",
            "[1.53928227 1.47501128 1.58780228 ... 0.22749591 0.19686747 0.17394552]\n",
            "[nan nan nan ... nan nan nan]\n"
          ],
          "name": "stdout"
        }
      ]
    },
    {
      "cell_type": "code",
      "metadata": {
        "colab": {
          "base_uri": "https://localhost:8080/"
        },
        "id": "lwkov4vWaJ_2",
        "outputId": "993d3e02-532f-47b2-fae5-f7d319a8091b"
      },
      "source": [
        "DF['type'].value_counts()"
      ],
      "execution_count": 38,
      "outputs": [
        {
          "output_type": "execute_result",
          "data": {
            "text/plain": [
              "conventional    1517\n",
              "Name: type, dtype: int64"
            ]
          },
          "metadata": {
            "tags": []
          },
          "execution_count": 38
        }
      ]
    },
    {
      "cell_type": "code",
      "metadata": {
        "colab": {
          "base_uri": "https://localhost:8080/"
        },
        "id": "w7qzaU6nhbFW",
        "outputId": "1fe55ea6-7e03-4076-9f4d-17b632eba1b2"
      },
      "source": [
        "DF['type'].nunique()"
      ],
      "execution_count": 39,
      "outputs": [
        {
          "output_type": "execute_result",
          "data": {
            "text/plain": [
              "1"
            ]
          },
          "metadata": {
            "tags": []
          },
          "execution_count": 39
        }
      ]
    },
    {
      "cell_type": "markdown",
      "metadata": {
        "id": "LyG5hMD1aPwj"
      },
      "source": [
        "All the avocados are of same type.<br> Dropping this column as it does not affect the price prediction."
      ]
    },
    {
      "cell_type": "code",
      "metadata": {
        "id": "Gt9s6oV5CyXF"
      },
      "source": [
        "DF.drop(['type'], axis=1, inplace=True)"
      ],
      "execution_count": 40,
      "outputs": []
    },
    {
      "cell_type": "code",
      "metadata": {
        "colab": {
          "base_uri": "https://localhost:8080/"
        },
        "id": "JeldOqe5Dumm",
        "outputId": "f6d2871c-ce33-42ef-ef52-1bc4cbe91d6e"
      },
      "source": [
        "DF.shape"
      ],
      "execution_count": 41,
      "outputs": [
        {
          "output_type": "execute_result",
          "data": {
            "text/plain": [
              "(1517, 12)"
            ]
          },
          "metadata": {
            "tags": []
          },
          "execution_count": 41
        }
      ]
    },
    {
      "cell_type": "code",
      "metadata": {
        "id": "zHjnLaRCE8bD"
      },
      "source": [
        "df_new=pd.get_dummies(DF.drop(['region', 'XLarge Bags', 'year', 'Date'],axis=1),drop_first=True)"
      ],
      "execution_count": 42,
      "outputs": []
    },
    {
      "cell_type": "markdown",
      "metadata": {
        "id": "_IsjpdFaNE48"
      },
      "source": [
        "**Encoding**"
      ]
    },
    {
      "cell_type": "code",
      "metadata": {
        "id": "WSsEaorFGNOv"
      },
      "source": [
        "from sklearn.preprocessing import LabelEncoder\n",
        "for column in df_new.columns:\n",
        "  if df_new[column].dtype == np.number:\n",
        "    continue\n",
        "  df_new[column] = LabelEncoder().fit_transform(df_new[column])"
      ],
      "execution_count": 54,
      "outputs": []
    },
    {
      "cell_type": "markdown",
      "metadata": {
        "id": "elRFbUh_DT02"
      },
      "source": [
        " ### <br><br>Predictive Modeling"
      ]
    },
    {
      "cell_type": "code",
      "metadata": {
        "id": "y8TUjuIgC66C"
      },
      "source": [
        "from sklearn.linear_model import LogisticRegression\n",
        "from sklearn import svm \n",
        "from sklearn.ensemble import RandomForestClassifier \n",
        "from sklearn.neighbors import KNeighborsClassifier \n",
        "from sklearn.naive_bayes import GaussianNB \n",
        "from sklearn.tree import DecisionTreeClassifier \n",
        "from sklearn.model_selection import train_test_split\n",
        "from sklearn import metrics \n",
        "from sklearn.metrics import confusion_matrix \n",
        "from sklearn.model_selection import GridSearchCV"
      ],
      "execution_count": 43,
      "outputs": []
    },
    {
      "cell_type": "markdown",
      "metadata": {
        "id": "UdfigAfRDehi"
      },
      "source": [
        "**Splitting data for validation**"
      ]
    },
    {
      "cell_type": "code",
      "metadata": {
        "id": "X4PXdUw1EByb"
      },
      "source": [
        "X=df_new.iloc[:,1:7]\n",
        "y=df_new['AveragePrice']\n",
        "from sklearn.model_selection import train_test_split\n",
        "X_train,X_test,y_train,y_test=train_test_split(X,y,test_size=0.2,random_state=42)"
      ],
      "execution_count": 52,
      "outputs": []
    },
    {
      "cell_type": "code",
      "metadata": {
        "id": "JQkI7_y1LYpw"
      },
      "source": [
        "df_new.replace([np.inf, -np.inf], np.nan, inplace=True)\n"
      ],
      "execution_count": 50,
      "outputs": []
    },
    {
      "cell_type": "code",
      "metadata": {
        "id": "J3e6YXp1Lpmf"
      },
      "source": [
        "df_new.fillna(999, inplace=True)"
      ],
      "execution_count": 51,
      "outputs": []
    },
    {
      "cell_type": "code",
      "metadata": {
        "id": "4inWZsbXKeXv"
      },
      "source": [
        "X_train = X_train.fillna(X_train.mean())"
      ],
      "execution_count": 53,
      "outputs": []
    },
    {
      "cell_type": "markdown",
      "metadata": {
        "id": "toYxpBncNLUr"
      },
      "source": [
        "**--->Checking RMSE Scores**"
      ]
    },
    {
      "cell_type": "markdown",
      "metadata": {
        "id": "lVPJac0GNs0O"
      },
      "source": [
        "Decision Tree Regresssor Model"
      ]
    },
    {
      "cell_type": "code",
      "metadata": {
        "id": "0qOsd0cpL6fp"
      },
      "source": [
        "from sklearn.tree import DecisionTreeRegressor\n",
        "dtr=DecisionTreeRegressor()\n",
        "dtr.fit(X_train,y_train)\n",
        "pred=dtr.predict(X_test)"
      ],
      "execution_count": 59,
      "outputs": []
    },
    {
      "cell_type": "code",
      "metadata": {
        "colab": {
          "base_uri": "https://localhost:8080/"
        },
        "id": "OqV-BH5_MZ5Z",
        "outputId": "a9ee069b-20c9-4dcb-cd1b-7cb1c643b140"
      },
      "source": [
        "print('MAE:', metrics.mean_absolute_error(y_test, pred))\n",
        "print('MSE:', metrics.mean_squared_error(y_test, pred))\n",
        "print('RMSE:', np.sqrt(metrics.mean_squared_error(y_test, pred)))"
      ],
      "execution_count": 60,
      "outputs": [
        {
          "output_type": "stream",
          "text": [
            "MAE: 0.07805921052631579\n",
            "MSE: 0.013300328947368422\n",
            "RMSE: 0.11532705210560279\n"
          ],
          "name": "stdout"
        }
      ]
    },
    {
      "cell_type": "markdown",
      "metadata": {
        "id": "foviwA5FNxgU"
      },
      "source": [
        "Random Forest Regressor Model"
      ]
    },
    {
      "cell_type": "code",
      "metadata": {
        "id": "WTAFhlmJMZ9A"
      },
      "source": [
        "from sklearn.ensemble import RandomForestRegressor\n",
        "rdr = RandomForestRegressor()\n",
        "rdr.fit(X_train,y_train)\n",
        "pred=rdr.predict(X_test)"
      ],
      "execution_count": 61,
      "outputs": []
    },
    {
      "cell_type": "code",
      "metadata": {
        "colab": {
          "base_uri": "https://localhost:8080/"
        },
        "id": "QDSatJ_LMaAY",
        "outputId": "8f6660f8-74bc-4d0a-cde1-f2b59e9771af"
      },
      "source": [
        "print('MAE:', metrics.mean_absolute_error(y_test, pred))\n",
        "print('MSE:', metrics.mean_squared_error(y_test, pred))\n",
        "print('RMSE:', np.sqrt(metrics.mean_squared_error(y_test, pred)))"
      ],
      "execution_count": 62,
      "outputs": [
        {
          "output_type": "stream",
          "text": [
            "MAE: 0.06224638157894734\n",
            "MSE: 0.007494957730263161\n",
            "RMSE: 0.08657342392595525\n"
          ],
          "name": "stdout"
        }
      ]
    },
    {
      "cell_type": "markdown",
      "metadata": {
        "id": "QKcaVHB_N3Vc"
      },
      "source": [
        "Linear Regression Model"
      ]
    },
    {
      "cell_type": "code",
      "metadata": {
        "id": "SaCTYEp1MaH3"
      },
      "source": [
        "from sklearn.linear_model import LinearRegression\n",
        "lr=LinearRegression()\n",
        "lr.fit(X_train,y_train)\n",
        "pred=lr.predict(X_test)"
      ],
      "execution_count": 63,
      "outputs": []
    },
    {
      "cell_type": "code",
      "metadata": {
        "colab": {
          "base_uri": "https://localhost:8080/"
        },
        "id": "EHYz9lH9MlKn",
        "outputId": "c5b36dd8-c411-4f0e-f0c7-a60662c6cf09"
      },
      "source": [
        "from sklearn import metrics\n",
        "print('MAE:', metrics.mean_absolute_error(y_test, pred))\n",
        "print('MSE:', metrics.mean_squared_error(y_test, pred))\n",
        "print('RMSE:', np.sqrt(metrics.mean_squared_error(y_test, pred)))"
      ],
      "execution_count": 64,
      "outputs": [
        {
          "output_type": "stream",
          "text": [
            "MAE: 0.11422572939648623\n",
            "MSE: 0.022808291631423814\n",
            "RMSE: 0.1510241425449051\n"
          ],
          "name": "stdout"
        }
      ]
    },
    {
      "cell_type": "markdown",
      "metadata": {
        "id": "r2IZzmIWOWIM"
      },
      "source": [
        "We can see that the  Random Forest Regressor has least RMSE value, so considering this as the best model."
      ]
    },
    {
      "cell_type": "markdown",
      "metadata": {
        "id": "etMniHKzVLoh"
      },
      "source": [
        "**Predictions**"
      ]
    },
    {
      "cell_type": "code",
      "metadata": {
        "colab": {
          "base_uri": "https://localhost:8080/",
          "height": 564
        },
        "id": "V8KowPUGHzzn",
        "outputId": "a30c94b2-25df-40be-9e1b-233ccc6a3c0a"
      },
      "source": [
        "DF_Output = pd.DataFrame({'Y Test':y_test , 'Pred':pred},columns=['Y Test','Pred'])\n",
        "sns.lmplot(x='Y Test',y='Pred',data=DF_Output,palette='rainbow')\n",
        "DF_Output.head()"
      ],
      "execution_count": 69,
      "outputs": [
        {
          "output_type": "execute_result",
          "data": {
            "text/html": [
              "<div>\n",
              "<style scoped>\n",
              "    .dataframe tbody tr th:only-of-type {\n",
              "        vertical-align: middle;\n",
              "    }\n",
              "\n",
              "    .dataframe tbody tr th {\n",
              "        vertical-align: top;\n",
              "    }\n",
              "\n",
              "    .dataframe thead th {\n",
              "        text-align: right;\n",
              "    }\n",
              "</style>\n",
              "<table border=\"1\" class=\"dataframe\">\n",
              "  <thead>\n",
              "    <tr style=\"text-align: right;\">\n",
              "      <th></th>\n",
              "      <th>Y Test</th>\n",
              "      <th>Pred</th>\n",
              "    </tr>\n",
              "  </thead>\n",
              "  <tbody>\n",
              "    <tr>\n",
              "      <th>724</th>\n",
              "      <td>1.18</td>\n",
              "      <td>1.245436</td>\n",
              "    </tr>\n",
              "    <tr>\n",
              "      <th>812</th>\n",
              "      <td>1.25</td>\n",
              "      <td>1.239783</td>\n",
              "    </tr>\n",
              "    <tr>\n",
              "      <th>1466</th>\n",
              "      <td>1.08</td>\n",
              "      <td>1.032433</td>\n",
              "    </tr>\n",
              "    <tr>\n",
              "      <th>1469</th>\n",
              "      <td>1.07</td>\n",
              "      <td>1.022006</td>\n",
              "    </tr>\n",
              "    <tr>\n",
              "      <th>51</th>\n",
              "      <td>1.22</td>\n",
              "      <td>1.216002</td>\n",
              "    </tr>\n",
              "  </tbody>\n",
              "</table>\n",
              "</div>"
            ],
            "text/plain": [
              "      Y Test      Pred\n",
              "724     1.18  1.245436\n",
              "812     1.25  1.239783\n",
              "1466    1.08  1.032433\n",
              "1469    1.07  1.022006\n",
              "51      1.22  1.216002"
            ]
          },
          "metadata": {
            "tags": []
          },
          "execution_count": 69
        },
        {
          "output_type": "display_data",
          "data": {
            "image/png": "[encoded data removed]",
            "text/plain": [
              "<Figure size 360x360 with 1 Axes>"
            ]
          },
          "metadata": {
            "tags": [],
            "needs_background": "light"
          }
        }
      ]
    },
    {
      "cell_type": "markdown",
      "metadata": {
        "id": "r56W4XS_VSkM"
      },
      "source": [
        "### Saving the Model"
      ]
    },
    {
      "cell_type": "code",
      "metadata": {
        "id": "wHTPD2zdQxNf"
      },
      "source": [
        "import joblib"
      ],
      "execution_count": 85,
      "outputs": []
    },
    {
      "cell_type": "code",
      "metadata": {
        "colab": {
          "base_uri": "https://localhost:8080/"
        },
        "id": "j_WfTwrnVbmo",
        "outputId": "b19d5687-b578-47c8-bec3-dedc4aa64504"
      },
      "source": [
        "joblib.dump(rdr, 'Avocado_Project.pkl')"
      ],
      "execution_count": 86,
      "outputs": [
        {
          "output_type": "execute_result",
          "data": {
            "text/plain": [
              "['Avocado_Project.pkl']"
            ]
          },
          "metadata": {
            "tags": []
          },
          "execution_count": 86
        }
      ]
    },
    {
      "cell_type": "code",
      "metadata": {
        "id": "UGTxgTugVjrx"
      },
      "source": [
        "# Load the model from the file\n",
        "rdr_from_joblib = joblib.load('Avocado_Project.pkl')"
      ],
      "execution_count": 87,
      "outputs": []
    },
    {
      "cell_type": "code",
      "metadata": {
        "colab": {
          "base_uri": "https://localhost:8080/"
        },
        "id": "02AjLPvcVo9Q",
        "outputId": "235e8528-e5f3-4608-b592-bd69f811c74a"
      },
      "source": [
        "# Use the loaded model to make predictions\n",
        "rdr_from_joblib.predict(X_test)"
      ],
      "execution_count": 88,
      "outputs": [
        {
          "output_type": "execute_result",
          "data": {
            "text/plain": [
              "array([1.1184, 1.2203, 0.8811, 0.9928, 1.3096, 0.9131, 1.0346, 1.118 ,\n",
              "       1.1343, 0.9498, 1.0845, 1.0918, 1.1941, 0.9917, 1.0831, 0.8346,\n",
              "       1.0861, 1.0813, 1.2025, 1.1501, 1.0882, 1.1292, 1.0202, 1.4171,\n",
              "       1.1869, 0.6193, 1.0234, 0.7861, 1.2265, 0.7198, 1.2353, 0.9988,\n",
              "       1.1917, 1.0263, 0.7547, 1.2717, 1.2659, 1.0645, 0.9813, 1.1023,\n",
              "       1.1313, 1.1486, 1.3512, 1.0308, 0.9627, 1.0902, 1.1739, 1.0624,\n",
              "       0.8487, 1.0424, 1.3   , 0.9798, 1.2124, 1.067 , 1.066 , 1.1997,\n",
              "       1.2339, 1.1023, 1.0094, 1.215 , 1.1854, 1.0217, 1.2971, 1.1075,\n",
              "       1.2079, 0.8369, 0.5916, 1.0971, 0.7479, 1.1265, 1.2083, 0.7791,\n",
              "       1.1003, 1.0133, 1.019 , 1.0339, 1.1607, 1.2275, 1.2226, 0.8327,\n",
              "       1.1418, 0.7418, 1.1693, 0.5681, 1.04  , 0.7834, 1.0013, 0.7318,\n",
              "       1.1593, 1.2909, 1.101 , 1.3325, 1.0805, 1.0736, 1.1042, 1.0802,\n",
              "       1.1811, 1.3595, 0.9649, 1.0616, 1.2866, 1.0267, 0.8953, 1.0224,\n",
              "       1.0485, 0.981 , 1.0634, 1.2407, 1.0552, 1.1967, 1.0854, 1.3472,\n",
              "       1.029 , 1.1539, 0.5682, 1.1394, 1.1005, 1.2062, 1.0907, 0.8434,\n",
              "       0.9483, 0.9771, 1.1527, 1.0805, 1.3747, 0.6888, 1.0436, 1.0905,\n",
              "       1.0247, 1.0258, 1.3565, 1.1856, 0.6218, 1.0207, 0.744 , 1.2299,\n",
              "       1.2741, 1.2183, 1.0218, 1.084 , 1.0816, 1.0772, 0.8162, 1.1674,\n",
              "       1.2203, 1.0053, 0.8409, 1.1883, 1.0919, 1.1879, 1.1827, 0.7213,\n",
              "       0.9886, 1.0461, 1.1576, 1.0184, 1.0699, 1.0183, 0.5672, 1.0729,\n",
              "       0.8458, 1.0036, 1.3348, 1.094 , 1.1347, 0.808 , 0.7335, 1.0604,\n",
              "       1.1966, 1.1955, 0.9879, 0.8755, 0.8539, 1.1034, 1.1887, 1.1483,\n",
              "       1.1661, 1.135 , 1.0741, 1.179 , 0.8888, 1.305 , 1.0557, 1.1963,\n",
              "       1.1625, 1.0226, 1.1263, 1.2422, 1.0739, 0.7739, 1.0369, 0.9318,\n",
              "       1.03  , 0.9932, 1.1899, 1.0142, 1.018 , 1.2029, 1.1696, 0.7661,\n",
              "       0.9794, 1.1963, 1.1372, 1.0691, 0.8156, 1.3222, 1.2013, 1.1062,\n",
              "       1.0115, 1.0319, 1.1206, 1.0768, 1.1698, 1.0013, 1.0402, 1.0033,\n",
              "       0.9952, 1.0667, 0.9656, 0.9903, 1.0382, 0.9777, 1.056 , 1.1186,\n",
              "       0.7193, 1.1478, 1.0099, 0.7888, 1.1422, 1.1872, 0.7862, 1.0648,\n",
              "       1.0759, 0.8427, 1.01  , 1.0594, 1.2463, 1.1614, 1.2988, 1.0716,\n",
              "       1.1659, 1.0959, 0.7153, 1.0415, 1.1789, 0.9617, 0.8484, 0.995 ,\n",
              "       0.9464, 0.9685, 0.7669, 0.8712, 1.0108, 1.1252, 1.1757, 1.2   ,\n",
              "       0.8695, 1.0313, 1.0448, 1.178 , 0.8101, 1.3708, 1.1144, 1.0468,\n",
              "       1.2455, 1.0374, 1.0683, 1.1583, 0.865 , 1.1595, 1.0799, 0.8534,\n",
              "       1.1537, 1.0148, 1.0823, 1.2019, 1.0601, 0.9943, 1.1787, 1.053 ,\n",
              "       1.3569, 1.1059, 1.0981, 1.2928, 1.0193, 0.7272, 0.9693, 0.949 ,\n",
              "       1.0687, 1.1536, 1.1088, 1.0103, 0.5536, 1.1607, 0.8   , 0.9885,\n",
              "       1.1599, 1.0011, 1.3199, 1.0308, 1.1507, 1.1784, 0.9952, 1.168 ])"
            ]
          },
          "metadata": {
            "tags": []
          },
          "execution_count": 88
        }
      ]
    },
    {
      "cell_type": "code",
      "metadata": {
        "id": "2NnR9j-5VsMC"
      },
      "source": [
        ""
      ],
      "execution_count": null,
      "outputs": []
    }
  ]
}